{
 "cells": [
  {
   "cell_type": "code",
   "execution_count": null,
   "metadata": {},
   "outputs": [],
   "source": [
    "%pip install -r requirements.txt"
   ]
  },
  {
   "cell_type": "code",
   "execution_count": 10,
   "metadata": {},
   "outputs": [
    {
     "ename": "NameError",
     "evalue": "name 'collections' is not defined",
     "output_type": "error",
     "traceback": [
      "\u001b[0;31m---------------------------------------------------------------------------\u001b[0m",
      "\u001b[0;31mNameError\u001b[0m                                 Traceback (most recent call last)",
      "Cell \u001b[0;32mIn[10], line 9\u001b[0m\n\u001b[1;32m      6\u001b[0m \u001b[39mfrom\u001b[39;00m \u001b[39matari_wrappers\u001b[39;00m \u001b[39mimport\u001b[39;00m ProcessFrame84, MaxAndSkipEnv\n\u001b[1;32m      8\u001b[0m env \u001b[39m=\u001b[39m gym\u001b[39m.\u001b[39mmake(\u001b[39m'\u001b[39m\u001b[39mSlimeVolleyNoFrameskip-v0\u001b[39m\u001b[39m'\u001b[39m)\n\u001b[0;32m----> 9\u001b[0m env \u001b[39m=\u001b[39m MaxAndSkipEnv(env)\n\u001b[1;32m     10\u001b[0m env \u001b[39m=\u001b[39m GrayScaleObservation(env)\n\u001b[1;32m     11\u001b[0m env \u001b[39m=\u001b[39m ProcessFrame84(env)\n",
      "File \u001b[0;32m~/projeto-TAIA/atari_wrappers.py:25\u001b[0m, in \u001b[0;36mMaxAndSkipEnv.__init__\u001b[0;34m(self, env, skip)\u001b[0m\n\u001b[1;32m     23\u001b[0m \u001b[39msuper\u001b[39m(MaxAndSkipEnv, \u001b[39mself\u001b[39m)\u001b[39m.\u001b[39m\u001b[39m__init__\u001b[39m(env)\n\u001b[1;32m     24\u001b[0m \u001b[39m# most recent raw observations (for max pooling across time steps)\u001b[39;00m\n\u001b[0;32m---> 25\u001b[0m \u001b[39mself\u001b[39m\u001b[39m.\u001b[39m_obs_buffer \u001b[39m=\u001b[39m collections\u001b[39m.\u001b[39mdeque(maxlen\u001b[39m=\u001b[39m\u001b[39m2\u001b[39m)\n\u001b[1;32m     26\u001b[0m \u001b[39mself\u001b[39m\u001b[39m.\u001b[39m_skip \u001b[39m=\u001b[39m skip\n",
      "\u001b[0;31mNameError\u001b[0m: name 'collections' is not defined"
     ]
    }
   ],
   "source": [
    "import gym\n",
    "import matplotlib.pyplot as plt\n",
    "import slimevolleygym\n",
    "from gym.wrappers.gray_scale_observation import GrayScaleObservation\n",
    "from gym.wrappers.frame_stack import FrameStack\n",
    "from atari_wrappers import ProcessFrame84, MaxAndSkipEnv\n",
    "\n",
    "env = gym.make('SlimeVolleyNoFrameskip-v0')\n",
    "env = MaxAndSkipEnv(env)\n",
    "env = GrayScaleObservation(env)\n",
    "env = ProcessFrame84(env)\n",
    "env = FrameStack(env, 4)\n",
    "\n",
    "obs = env.reset()\n",
    "done = False\n",
    "total_reward = 0\n",
    "\n",
    "fig, axes = plt.subplots(1, 4, figsize=(20, 10))\n",
    "ax = axes.ravel()\n",
    "\n",
    "ax[0].imshow(obs[0], cmap='gray')\n",
    "ax[0].set_axis_off()\n",
    "ax[1].imshow(obs[0], cmap='gray')\n",
    "ax[1].set_axis_off()\n",
    "ax[2].imshow(obs[0], cmap='gray')\n",
    "ax[2].set_axis_off()\n",
    "ax[3].imshow(obs[0], cmap='gray')\n",
    "ax[3].set_axis_off()"
   ]
  }
 ],
 "metadata": {
  "kernelspec": {
   "display_name": "base",
   "language": "python",
   "name": "python3"
  },
  "language_info": {
   "codemirror_mode": {
    "name": "ipython",
    "version": 3
   },
   "file_extension": ".py",
   "mimetype": "text/x-python",
   "name": "python",
   "nbconvert_exporter": "python",
   "pygments_lexer": "ipython3",
   "version": "3.11.4"
  },
  "orig_nbformat": 4
 },
 "nbformat": 4,
 "nbformat_minor": 2
}
