{
 "cells": [
  {
   "cell_type": "code",
   "execution_count": 1,
   "metadata": {},
   "outputs": [
    {
     "name": "stdout",
     "output_type": "stream",
     "text": [
      "/bin/bash: /home/henriquesabino/miniconda3/lib/libtinfo.so.6: no version information available (required by /bin/bash)\n",
      "Requirement already satisfied: gym==0.25.2 in /home/henriquesabino/miniconda3/lib/python3.11/site-packages (from -r requirements.txt (line 1)) (0.25.2)\n",
      "Requirement already satisfied: slimevolleygym in /home/henriquesabino/miniconda3/lib/python3.11/site-packages (from -r requirements.txt (line 2)) (0.1.0)\n",
      "Requirement already satisfied: matplotlib in /home/henriquesabino/miniconda3/lib/python3.11/site-packages (from -r requirements.txt (line 3)) (3.7.2)\n",
      "Requirement already satisfied: opencv-python in /home/henriquesabino/miniconda3/lib/python3.11/site-packages (from -r requirements.txt (line 4)) (4.8.0.74)\n",
      "Requirement already satisfied: numpy in /home/henriquesabino/miniconda3/lib/python3.11/site-packages (from -r requirements.txt (line 5)) (1.24.3)\n",
      "Requirement already satisfied: pyglet in /home/henriquesabino/miniconda3/lib/python3.11/site-packages (from -r requirements.txt (line 6)) (2.0.9)\n",
      "Requirement already satisfied: shimmy in /home/henriquesabino/miniconda3/lib/python3.11/site-packages (from -r requirements.txt (line 7)) (1.2.1)\n",
      "Requirement already satisfied: stable-baselines3 in /home/henriquesabino/miniconda3/lib/python3.11/site-packages (from -r requirements.txt (line 8)) (2.1.0)\n",
      "Requirement already satisfied: cloudpickle>=1.2.0 in /home/henriquesabino/miniconda3/lib/python3.11/site-packages (from gym==0.25.2->-r requirements.txt (line 1)) (2.2.1)\n",
      "Requirement already satisfied: gym-notices>=0.0.4 in /home/henriquesabino/miniconda3/lib/python3.11/site-packages (from gym==0.25.2->-r requirements.txt (line 1)) (0.0.8)\n",
      "Requirement already satisfied: contourpy>=1.0.1 in /home/henriquesabino/miniconda3/lib/python3.11/site-packages (from matplotlib->-r requirements.txt (line 3)) (1.1.0)\n",
      "Requirement already satisfied: cycler>=0.10 in /home/henriquesabino/miniconda3/lib/python3.11/site-packages (from matplotlib->-r requirements.txt (line 3)) (0.11.0)\n",
      "Requirement already satisfied: fonttools>=4.22.0 in /home/henriquesabino/miniconda3/lib/python3.11/site-packages (from matplotlib->-r requirements.txt (line 3)) (4.41.1)\n",
      "Requirement already satisfied: kiwisolver>=1.0.1 in /home/henriquesabino/miniconda3/lib/python3.11/site-packages (from matplotlib->-r requirements.txt (line 3)) (1.4.4)\n",
      "Requirement already satisfied: packaging>=20.0 in /home/henriquesabino/miniconda3/lib/python3.11/site-packages (from matplotlib->-r requirements.txt (line 3)) (23.1)\n",
      "Requirement already satisfied: pillow>=6.2.0 in /home/henriquesabino/miniconda3/lib/python3.11/site-packages (from matplotlib->-r requirements.txt (line 3)) (10.0.0)\n",
      "Requirement already satisfied: pyparsing<3.1,>=2.3.1 in /home/henriquesabino/miniconda3/lib/python3.11/site-packages (from matplotlib->-r requirements.txt (line 3)) (3.0.9)\n",
      "Requirement already satisfied: python-dateutil>=2.7 in /home/henriquesabino/miniconda3/lib/python3.11/site-packages (from matplotlib->-r requirements.txt (line 3)) (2.8.2)\n",
      "Requirement already satisfied: gymnasium>=0.27.0 in /home/henriquesabino/miniconda3/lib/python3.11/site-packages (from shimmy->-r requirements.txt (line 7)) (0.29.1)\n",
      "Requirement already satisfied: torch>=1.13 in /home/henriquesabino/miniconda3/lib/python3.11/site-packages (from stable-baselines3->-r requirements.txt (line 8)) (2.0.1)\n",
      "Requirement already satisfied: pandas in /home/henriquesabino/miniconda3/lib/python3.11/site-packages (from stable-baselines3->-r requirements.txt (line 8)) (2.0.3)\n",
      "Requirement already satisfied: typing-extensions>=4.3.0 in /home/henriquesabino/miniconda3/lib/python3.11/site-packages (from gymnasium>=0.27.0->shimmy->-r requirements.txt (line 7)) (4.5.0)\n",
      "Requirement already satisfied: farama-notifications>=0.0.1 in /home/henriquesabino/miniconda3/lib/python3.11/site-packages (from gymnasium>=0.27.0->shimmy->-r requirements.txt (line 7)) (0.0.4)\n",
      "Requirement already satisfied: six>=1.5 in /home/henriquesabino/miniconda3/lib/python3.11/site-packages (from python-dateutil>=2.7->matplotlib->-r requirements.txt (line 3)) (1.16.0)\n",
      "Requirement already satisfied: filelock in /home/henriquesabino/miniconda3/lib/python3.11/site-packages (from torch>=1.13->stable-baselines3->-r requirements.txt (line 8)) (3.12.2)\n",
      "Requirement already satisfied: sympy in /home/henriquesabino/miniconda3/lib/python3.11/site-packages (from torch>=1.13->stable-baselines3->-r requirements.txt (line 8)) (1.12)\n",
      "Requirement already satisfied: networkx in /home/henriquesabino/miniconda3/lib/python3.11/site-packages (from torch>=1.13->stable-baselines3->-r requirements.txt (line 8)) (3.1)\n",
      "Requirement already satisfied: jinja2 in /home/henriquesabino/miniconda3/lib/python3.11/site-packages (from torch>=1.13->stable-baselines3->-r requirements.txt (line 8)) (3.1.2)\n",
      "Requirement already satisfied: nvidia-cuda-nvrtc-cu11==11.7.99 in /home/henriquesabino/miniconda3/lib/python3.11/site-packages (from torch>=1.13->stable-baselines3->-r requirements.txt (line 8)) (11.7.99)\n",
      "Requirement already satisfied: nvidia-cuda-runtime-cu11==11.7.99 in /home/henriquesabino/miniconda3/lib/python3.11/site-packages (from torch>=1.13->stable-baselines3->-r requirements.txt (line 8)) (11.7.99)\n",
      "Requirement already satisfied: nvidia-cuda-cupti-cu11==11.7.101 in /home/henriquesabino/miniconda3/lib/python3.11/site-packages (from torch>=1.13->stable-baselines3->-r requirements.txt (line 8)) (11.7.101)\n",
      "Requirement already satisfied: nvidia-cudnn-cu11==8.5.0.96 in /home/henriquesabino/miniconda3/lib/python3.11/site-packages (from torch>=1.13->stable-baselines3->-r requirements.txt (line 8)) (8.5.0.96)\n",
      "Requirement already satisfied: nvidia-cublas-cu11==11.10.3.66 in /home/henriquesabino/miniconda3/lib/python3.11/site-packages (from torch>=1.13->stable-baselines3->-r requirements.txt (line 8)) (11.10.3.66)\n",
      "Requirement already satisfied: nvidia-cufft-cu11==10.9.0.58 in /home/henriquesabino/miniconda3/lib/python3.11/site-packages (from torch>=1.13->stable-baselines3->-r requirements.txt (line 8)) (10.9.0.58)\n",
      "Requirement already satisfied: nvidia-curand-cu11==10.2.10.91 in /home/henriquesabino/miniconda3/lib/python3.11/site-packages (from torch>=1.13->stable-baselines3->-r requirements.txt (line 8)) (10.2.10.91)\n",
      "Requirement already satisfied: nvidia-cusolver-cu11==11.4.0.1 in /home/henriquesabino/miniconda3/lib/python3.11/site-packages (from torch>=1.13->stable-baselines3->-r requirements.txt (line 8)) (11.4.0.1)\n",
      "Requirement already satisfied: nvidia-cusparse-cu11==11.7.4.91 in /home/henriquesabino/miniconda3/lib/python3.11/site-packages (from torch>=1.13->stable-baselines3->-r requirements.txt (line 8)) (11.7.4.91)\n",
      "Requirement already satisfied: nvidia-nccl-cu11==2.14.3 in /home/henriquesabino/miniconda3/lib/python3.11/site-packages (from torch>=1.13->stable-baselines3->-r requirements.txt (line 8)) (2.14.3)\n",
      "Requirement already satisfied: nvidia-nvtx-cu11==11.7.91 in /home/henriquesabino/miniconda3/lib/python3.11/site-packages (from torch>=1.13->stable-baselines3->-r requirements.txt (line 8)) (11.7.91)\n",
      "Requirement already satisfied: triton==2.0.0 in /home/henriquesabino/miniconda3/lib/python3.11/site-packages (from torch>=1.13->stable-baselines3->-r requirements.txt (line 8)) (2.0.0)\n",
      "Requirement already satisfied: setuptools in /home/henriquesabino/.local/lib/python3.11/site-packages (from nvidia-cublas-cu11==11.10.3.66->torch>=1.13->stable-baselines3->-r requirements.txt (line 8)) (68.1.2)\n",
      "Requirement already satisfied: wheel in /home/henriquesabino/miniconda3/lib/python3.11/site-packages (from nvidia-cublas-cu11==11.10.3.66->torch>=1.13->stable-baselines3->-r requirements.txt (line 8)) (0.38.4)\n",
      "Requirement already satisfied: cmake in /home/henriquesabino/miniconda3/lib/python3.11/site-packages (from triton==2.0.0->torch>=1.13->stable-baselines3->-r requirements.txt (line 8)) (3.27.1)\n",
      "Requirement already satisfied: lit in /home/henriquesabino/miniconda3/lib/python3.11/site-packages (from triton==2.0.0->torch>=1.13->stable-baselines3->-r requirements.txt (line 8)) (16.0.6)\n",
      "Requirement already satisfied: pytz>=2020.1 in /home/henriquesabino/miniconda3/lib/python3.11/site-packages (from pandas->stable-baselines3->-r requirements.txt (line 8)) (2023.3)\n",
      "Requirement already satisfied: tzdata>=2022.1 in /home/henriquesabino/miniconda3/lib/python3.11/site-packages (from pandas->stable-baselines3->-r requirements.txt (line 8)) (2023.3)\n",
      "Requirement already satisfied: MarkupSafe>=2.0 in /home/henriquesabino/miniconda3/lib/python3.11/site-packages (from jinja2->torch>=1.13->stable-baselines3->-r requirements.txt (line 8)) (2.1.3)\n",
      "Requirement already satisfied: mpmath>=0.19 in /home/henriquesabino/miniconda3/lib/python3.11/site-packages (from sympy->torch>=1.13->stable-baselines3->-r requirements.txt (line 8)) (1.3.0)\n",
      "Note: you may need to restart the kernel to use updated packages.\n"
     ]
    }
   ],
   "source": [
    "%pip install -r requirements.txt"
   ]
  },
  {
   "cell_type": "code",
   "execution_count": 2,
   "metadata": {},
   "outputs": [
    {
     "name": "stderr",
     "output_type": "stream",
     "text": [
      "/home/henriquesabino/miniconda3/lib/python3.11/site-packages/gym/core.py:317: DeprecationWarning: \u001b[33mWARN: Initializing wrapper in old step API which returns one bool instead of two. It is recommended to set `new_step_api=True` to use new step API. This will be the default behaviour in future.\u001b[0m\n",
      "  deprecation(\n",
      "/home/henriquesabino/miniconda3/lib/python3.11/site-packages/gym/wrappers/step_api_compatibility.py:39: DeprecationWarning: \u001b[33mWARN: Initializing environment in old step API which returns one bool instead of two. It is recommended to set `new_step_api=True` to use new step API. This will be the default behaviour in future.\u001b[0m\n",
      "  deprecation(\n"
     ]
    }
   ],
   "source": [
    "import gym    \n",
    "import slimevolleygym\n",
    "from slimevolleygym import SurvivalRewardEnv\n",
    "import numpy as np\n",
    "from gym.wrappers.gray_scale_observation import GrayScaleObservation\n",
    "from gym.wrappers.resize_observation import ResizeObservation\n",
    "from atari_wrappers import RenderWrapper, BufferWrapper, ImageToPyTorch\n",
    "\n",
    "INPUT_SHAPE = (84, 84)\n",
    "WINDOW_LENGTH = 4\n",
    "\n",
    "env_name = 'SlimeVolleyNoFrameskip-v0'\n",
    "env = gym.make(env_name)\n",
    "env = SurvivalRewardEnv(env)\n",
    "env = RenderWrapper(env)\n",
    "env = ResizeObservation(env, INPUT_SHAPE)\n",
    "env = GrayScaleObservation(env, True)\n",
    "env = ImageToPyTorch(env)\n",
    "env = BufferWrapper(env, WINDOW_LENGTH, np.uint8)"
   ]
  },
  {
   "cell_type": "code",
   "execution_count": 6,
   "metadata": {},
   "outputs": [
    {
     "name": "stderr",
     "output_type": "stream",
     "text": [
      "/home/henriquesabino/miniconda3/lib/python3.11/site-packages/stable_baselines3/common/vec_env/patch_gym.py:49: UserWarning: You provided an OpenAI Gym environment. We strongly recommend transitioning to Gymnasium environments. Stable-Baselines3 is automatically wrapping your environments in a compatibility layer, which could potentially cause issues.\n",
      "  warnings.warn(\n",
      "/home/henriquesabino/miniconda3/lib/python3.11/site-packages/gym/core.py:317: DeprecationWarning: \u001b[33mWARN: Initializing wrapper in old step API which returns one bool instead of two. It is recommended to set `new_step_api=True` to use new step API. This will be the default behaviour in future.\u001b[0m\n",
      "  deprecation(\n",
      "/home/henriquesabino/miniconda3/lib/python3.11/site-packages/gym/wrappers/step_api_compatibility.py:39: DeprecationWarning: \u001b[33mWARN: Initializing environment in old step API which returns one bool instead of two. It is recommended to set `new_step_api=True` to use new step API. This will be the default behaviour in future.\u001b[0m\n",
      "  deprecation(\n",
      "/home/henriquesabino/miniconda3/lib/python3.11/site-packages/gym/core.py:43: DeprecationWarning: \u001b[33mWARN: The argument mode in render method is deprecated; use render_mode during environment initialization instead.\n",
      "See here for more information: https://www.gymlibrary.ml/content/api/\u001b[0m\n",
      "  deprecation(\n",
      "/home/henriquesabino/miniconda3/lib/python3.11/site-packages/gym/utils/passive_env_checker.py:174: UserWarning: \u001b[33mWARN: Future gym versions will require that `Env.reset` can be passed a `seed` instead of using `Env.seed` for resetting the environment random number generator.\u001b[0m\n",
      "  logger.warn(\n",
      "/home/henriquesabino/miniconda3/lib/python3.11/site-packages/gym/utils/passive_env_checker.py:190: UserWarning: \u001b[33mWARN: Future gym versions will require that `Env.reset` can be passed `return_info` to return information from the environment resetting.\u001b[0m\n",
      "  logger.warn(\n",
      "/home/henriquesabino/miniconda3/lib/python3.11/site-packages/gym/utils/passive_env_checker.py:195: UserWarning: \u001b[33mWARN: Future gym versions will require that `Env.reset` can be passed `options` to allow the environment initialisation to be passed additional information.\u001b[0m\n",
      "  logger.warn(\n",
      "/home/henriquesabino/miniconda3/lib/python3.11/site-packages/gym/utils/passive_env_checker.py:227: DeprecationWarning: \u001b[33mWARN: Core environment is written in old step API which returns one bool instead of two. It is recommended to rewrite the environment with new step API. \u001b[0m\n",
      "  logger.deprecation(\n",
      "/home/henriquesabino/miniconda3/lib/python3.11/site-packages/gym/utils/passive_env_checker.py:233: DeprecationWarning: `np.bool8` is a deprecated alias for `np.bool_`.  (Deprecated NumPy 1.24)\n",
      "  if not isinstance(done, (bool, np.bool8)):\n"
     ]
    },
    {
     "ename": "KeyboardInterrupt",
     "evalue": "",
     "output_type": "error",
     "traceback": [
      "\u001b[0;31m---------------------------------------------------------------------------\u001b[0m",
      "\u001b[0;31mKeyboardInterrupt\u001b[0m                         Traceback (most recent call last)",
      "Cell \u001b[0;32mIn[6], line 19\u001b[0m\n\u001b[1;32m     16\u001b[0m metrics_callback \u001b[39m=\u001b[39m EveryNTimesteps(n_steps\u001b[39m=\u001b[39m\u001b[39m1000\u001b[39m, callback\u001b[39m=\u001b[39mmodel_metrics_callback)\n\u001b[1;32m     18\u001b[0m callbacks\u001b[39m=\u001b[39m[checkpoint_callback, metrics_callback]\n\u001b[0;32m---> 19\u001b[0m model \u001b[39m=\u001b[39m model\u001b[39m.\u001b[39;49mlearn(total_timesteps\u001b[39m=\u001b[39;49m\u001b[39m1e6\u001b[39;49m, log_interval\u001b[39m=\u001b[39;49m\u001b[39m4\u001b[39;49m, callback\u001b[39m=\u001b[39;49mcallbacks)\n\u001b[1;32m     22\u001b[0m \u001b[39mprint\u001b[39m(model_metrics_callback\u001b[39m.\u001b[39mmean_rewards)\n\u001b[1;32m     23\u001b[0m \u001b[39mdel\u001b[39;00m model \u001b[39m# remove to demonstrate saving and loading\u001b[39;00m\n",
      "File \u001b[0;32m~/miniconda3/lib/python3.11/site-packages/stable_baselines3/dqn/dqn.py:267\u001b[0m, in \u001b[0;36mDQN.learn\u001b[0;34m(self, total_timesteps, callback, log_interval, tb_log_name, reset_num_timesteps, progress_bar)\u001b[0m\n\u001b[1;32m    258\u001b[0m \u001b[39mdef\u001b[39;00m \u001b[39mlearn\u001b[39m(\n\u001b[1;32m    259\u001b[0m     \u001b[39mself\u001b[39m: SelfDQN,\n\u001b[1;32m    260\u001b[0m     total_timesteps: \u001b[39mint\u001b[39m,\n\u001b[0;32m   (...)\u001b[0m\n\u001b[1;32m    265\u001b[0m     progress_bar: \u001b[39mbool\u001b[39m \u001b[39m=\u001b[39m \u001b[39mFalse\u001b[39;00m,\n\u001b[1;32m    266\u001b[0m ) \u001b[39m-\u001b[39m\u001b[39m>\u001b[39m SelfDQN:\n\u001b[0;32m--> 267\u001b[0m     \u001b[39mreturn\u001b[39;00m \u001b[39msuper\u001b[39;49m()\u001b[39m.\u001b[39;49mlearn(\n\u001b[1;32m    268\u001b[0m         total_timesteps\u001b[39m=\u001b[39;49mtotal_timesteps,\n\u001b[1;32m    269\u001b[0m         callback\u001b[39m=\u001b[39;49mcallback,\n\u001b[1;32m    270\u001b[0m         log_interval\u001b[39m=\u001b[39;49mlog_interval,\n\u001b[1;32m    271\u001b[0m         tb_log_name\u001b[39m=\u001b[39;49mtb_log_name,\n\u001b[1;32m    272\u001b[0m         reset_num_timesteps\u001b[39m=\u001b[39;49mreset_num_timesteps,\n\u001b[1;32m    273\u001b[0m         progress_bar\u001b[39m=\u001b[39;49mprogress_bar,\n\u001b[1;32m    274\u001b[0m     )\n",
      "File \u001b[0;32m~/miniconda3/lib/python3.11/site-packages/stable_baselines3/common/off_policy_algorithm.py:312\u001b[0m, in \u001b[0;36mOffPolicyAlgorithm.learn\u001b[0;34m(self, total_timesteps, callback, log_interval, tb_log_name, reset_num_timesteps, progress_bar)\u001b[0m\n\u001b[1;32m    309\u001b[0m callback\u001b[39m.\u001b[39mon_training_start(\u001b[39mlocals\u001b[39m(), \u001b[39mglobals\u001b[39m())\n\u001b[1;32m    311\u001b[0m \u001b[39mwhile\u001b[39;00m \u001b[39mself\u001b[39m\u001b[39m.\u001b[39mnum_timesteps \u001b[39m<\u001b[39m total_timesteps:\n\u001b[0;32m--> 312\u001b[0m     rollout \u001b[39m=\u001b[39m \u001b[39mself\u001b[39;49m\u001b[39m.\u001b[39;49mcollect_rollouts(\n\u001b[1;32m    313\u001b[0m         \u001b[39mself\u001b[39;49m\u001b[39m.\u001b[39;49menv,\n\u001b[1;32m    314\u001b[0m         train_freq\u001b[39m=\u001b[39;49m\u001b[39mself\u001b[39;49m\u001b[39m.\u001b[39;49mtrain_freq,\n\u001b[1;32m    315\u001b[0m         action_noise\u001b[39m=\u001b[39;49m\u001b[39mself\u001b[39;49m\u001b[39m.\u001b[39;49maction_noise,\n\u001b[1;32m    316\u001b[0m         callback\u001b[39m=\u001b[39;49mcallback,\n\u001b[1;32m    317\u001b[0m         learning_starts\u001b[39m=\u001b[39;49m\u001b[39mself\u001b[39;49m\u001b[39m.\u001b[39;49mlearning_starts,\n\u001b[1;32m    318\u001b[0m         replay_buffer\u001b[39m=\u001b[39;49m\u001b[39mself\u001b[39;49m\u001b[39m.\u001b[39;49mreplay_buffer,\n\u001b[1;32m    319\u001b[0m         log_interval\u001b[39m=\u001b[39;49mlog_interval,\n\u001b[1;32m    320\u001b[0m     )\n\u001b[1;32m    322\u001b[0m     \u001b[39mif\u001b[39;00m rollout\u001b[39m.\u001b[39mcontinue_training \u001b[39mis\u001b[39;00m \u001b[39mFalse\u001b[39;00m:\n\u001b[1;32m    323\u001b[0m         \u001b[39mbreak\u001b[39;00m\n",
      "File \u001b[0;32m~/miniconda3/lib/python3.11/site-packages/stable_baselines3/common/off_policy_algorithm.py:552\u001b[0m, in \u001b[0;36mOffPolicyAlgorithm.collect_rollouts\u001b[0;34m(self, env, callback, train_freq, replay_buffer, action_noise, learning_starts, log_interval)\u001b[0m\n\u001b[1;32m    550\u001b[0m callback\u001b[39m.\u001b[39mupdate_locals(\u001b[39mlocals\u001b[39m())\n\u001b[1;32m    551\u001b[0m \u001b[39m# Only stop training if return value is False, not when it is None.\u001b[39;00m\n\u001b[0;32m--> 552\u001b[0m \u001b[39mif\u001b[39;00m callback\u001b[39m.\u001b[39;49mon_step() \u001b[39mis\u001b[39;00m \u001b[39mFalse\u001b[39;00m:\n\u001b[1;32m    553\u001b[0m     \u001b[39mreturn\u001b[39;00m RolloutReturn(num_collected_steps \u001b[39m*\u001b[39m env\u001b[39m.\u001b[39mnum_envs, num_collected_episodes, continue_training\u001b[39m=\u001b[39m\u001b[39mFalse\u001b[39;00m)\n\u001b[1;32m    555\u001b[0m \u001b[39m# Retrieve reward and episode length if using Monitor wrapper\u001b[39;00m\n",
      "File \u001b[0;32m~/miniconda3/lib/python3.11/site-packages/stable_baselines3/common/callbacks.py:104\u001b[0m, in \u001b[0;36mBaseCallback.on_step\u001b[0;34m(self)\u001b[0m\n\u001b[1;32m    101\u001b[0m \u001b[39mself\u001b[39m\u001b[39m.\u001b[39mn_calls \u001b[39m+\u001b[39m\u001b[39m=\u001b[39m \u001b[39m1\u001b[39m\n\u001b[1;32m    102\u001b[0m \u001b[39mself\u001b[39m\u001b[39m.\u001b[39mnum_timesteps \u001b[39m=\u001b[39m \u001b[39mself\u001b[39m\u001b[39m.\u001b[39mmodel\u001b[39m.\u001b[39mnum_timesteps\n\u001b[0;32m--> 104\u001b[0m \u001b[39mreturn\u001b[39;00m \u001b[39mself\u001b[39;49m\u001b[39m.\u001b[39;49m_on_step()\n",
      "File \u001b[0;32m~/miniconda3/lib/python3.11/site-packages/stable_baselines3/common/callbacks.py:208\u001b[0m, in \u001b[0;36mCallbackList._on_step\u001b[0;34m(self)\u001b[0m\n\u001b[1;32m    205\u001b[0m continue_training \u001b[39m=\u001b[39m \u001b[39mTrue\u001b[39;00m\n\u001b[1;32m    206\u001b[0m \u001b[39mfor\u001b[39;00m callback \u001b[39min\u001b[39;00m \u001b[39mself\u001b[39m\u001b[39m.\u001b[39mcallbacks:\n\u001b[1;32m    207\u001b[0m     \u001b[39m# Return False (stop training) if at least one callback returns False\u001b[39;00m\n\u001b[0;32m--> 208\u001b[0m     continue_training \u001b[39m=\u001b[39m callback\u001b[39m.\u001b[39;49mon_step() \u001b[39mand\u001b[39;00m continue_training\n\u001b[1;32m    209\u001b[0m \u001b[39mreturn\u001b[39;00m continue_training\n",
      "File \u001b[0;32m~/miniconda3/lib/python3.11/site-packages/stable_baselines3/common/callbacks.py:104\u001b[0m, in \u001b[0;36mBaseCallback.on_step\u001b[0;34m(self)\u001b[0m\n\u001b[1;32m    101\u001b[0m \u001b[39mself\u001b[39m\u001b[39m.\u001b[39mn_calls \u001b[39m+\u001b[39m\u001b[39m=\u001b[39m \u001b[39m1\u001b[39m\n\u001b[1;32m    102\u001b[0m \u001b[39mself\u001b[39m\u001b[39m.\u001b[39mnum_timesteps \u001b[39m=\u001b[39m \u001b[39mself\u001b[39m\u001b[39m.\u001b[39mmodel\u001b[39m.\u001b[39mnum_timesteps\n\u001b[0;32m--> 104\u001b[0m \u001b[39mreturn\u001b[39;00m \u001b[39mself\u001b[39;49m\u001b[39m.\u001b[39;49m_on_step()\n",
      "File \u001b[0;32m~/miniconda3/lib/python3.11/site-packages/stable_baselines3/common/callbacks.py:572\u001b[0m, in \u001b[0;36mEveryNTimesteps._on_step\u001b[0;34m(self)\u001b[0m\n\u001b[1;32m    570\u001b[0m \u001b[39mif\u001b[39;00m (\u001b[39mself\u001b[39m\u001b[39m.\u001b[39mnum_timesteps \u001b[39m-\u001b[39m \u001b[39mself\u001b[39m\u001b[39m.\u001b[39mlast_time_trigger) \u001b[39m>\u001b[39m\u001b[39m=\u001b[39m \u001b[39mself\u001b[39m\u001b[39m.\u001b[39mn_steps:\n\u001b[1;32m    571\u001b[0m     \u001b[39mself\u001b[39m\u001b[39m.\u001b[39mlast_time_trigger \u001b[39m=\u001b[39m \u001b[39mself\u001b[39m\u001b[39m.\u001b[39mnum_timesteps\n\u001b[0;32m--> 572\u001b[0m     \u001b[39mreturn\u001b[39;00m \u001b[39mself\u001b[39;49m\u001b[39m.\u001b[39;49m_on_event()\n\u001b[1;32m    573\u001b[0m \u001b[39mreturn\u001b[39;00m \u001b[39mTrue\u001b[39;00m\n",
      "File \u001b[0;32m~/miniconda3/lib/python3.11/site-packages/stable_baselines3/common/callbacks.py:163\u001b[0m, in \u001b[0;36mEventCallback._on_event\u001b[0;34m(self)\u001b[0m\n\u001b[1;32m    161\u001b[0m \u001b[39mdef\u001b[39;00m \u001b[39m_on_event\u001b[39m(\u001b[39mself\u001b[39m) \u001b[39m-\u001b[39m\u001b[39m>\u001b[39m \u001b[39mbool\u001b[39m:\n\u001b[1;32m    162\u001b[0m     \u001b[39mif\u001b[39;00m \u001b[39mself\u001b[39m\u001b[39m.\u001b[39mcallback \u001b[39mis\u001b[39;00m \u001b[39mnot\u001b[39;00m \u001b[39mNone\u001b[39;00m:\n\u001b[0;32m--> 163\u001b[0m         \u001b[39mreturn\u001b[39;00m \u001b[39mself\u001b[39;49m\u001b[39m.\u001b[39;49mcallback\u001b[39m.\u001b[39;49mon_step()\n\u001b[1;32m    164\u001b[0m     \u001b[39mreturn\u001b[39;00m \u001b[39mTrue\u001b[39;00m\n",
      "File \u001b[0;32m~/miniconda3/lib/python3.11/site-packages/stable_baselines3/common/callbacks.py:104\u001b[0m, in \u001b[0;36mBaseCallback.on_step\u001b[0;34m(self)\u001b[0m\n\u001b[1;32m    101\u001b[0m \u001b[39mself\u001b[39m\u001b[39m.\u001b[39mn_calls \u001b[39m+\u001b[39m\u001b[39m=\u001b[39m \u001b[39m1\u001b[39m\n\u001b[1;32m    102\u001b[0m \u001b[39mself\u001b[39m\u001b[39m.\u001b[39mnum_timesteps \u001b[39m=\u001b[39m \u001b[39mself\u001b[39m\u001b[39m.\u001b[39mmodel\u001b[39m.\u001b[39mnum_timesteps\n\u001b[0;32m--> 104\u001b[0m \u001b[39mreturn\u001b[39;00m \u001b[39mself\u001b[39;49m\u001b[39m.\u001b[39;49m_on_step()\n",
      "File \u001b[0;32m~/projeto-TAIA/train_metrics.py:20\u001b[0m, in \u001b[0;36mModelMetricsCallback._on_step\u001b[0;34m(self)\u001b[0m\n\u001b[1;32m     18\u001b[0m \u001b[39mwhile\u001b[39;00m \u001b[39mnot\u001b[39;00m done:\n\u001b[1;32m     19\u001b[0m     action, _ \u001b[39m=\u001b[39m \u001b[39mself\u001b[39m\u001b[39m.\u001b[39mmodel\u001b[39m.\u001b[39mpredict(obs, deterministic\u001b[39m=\u001b[39m\u001b[39mTrue\u001b[39;00m)\n\u001b[0;32m---> 20\u001b[0m     obs, reward, done, _ \u001b[39m=\u001b[39m \u001b[39mself\u001b[39;49m\u001b[39m.\u001b[39;49meval_env\u001b[39m.\u001b[39;49mstep(\u001b[39mint\u001b[39;49m(action))\n\u001b[1;32m     21\u001b[0m     sum_rewards \u001b[39m+\u001b[39m\u001b[39m=\u001b[39m reward\n\u001b[1;32m     23\u001b[0m     \u001b[39mif\u001b[39;00m (\u001b[39mself\u001b[39m\u001b[39m.\u001b[39mverbose \u001b[39m>\u001b[39m\u001b[39m=\u001b[39m \u001b[39m2\u001b[39m):\n",
      "File \u001b[0;32m~/miniconda3/lib/python3.11/site-packages/gym/core.py:483\u001b[0m, in \u001b[0;36mObservationWrapper.step\u001b[0;34m(self, action)\u001b[0m\n\u001b[1;32m    481\u001b[0m \u001b[39mdef\u001b[39;00m \u001b[39mstep\u001b[39m(\u001b[39mself\u001b[39m, action):\n\u001b[1;32m    482\u001b[0m \u001b[39m    \u001b[39m\u001b[39m\"\"\"Returns a modified observation using :meth:`self.observation` after calling :meth:`env.step`.\"\"\"\u001b[39;00m\n\u001b[0;32m--> 483\u001b[0m     step_returns \u001b[39m=\u001b[39m \u001b[39mself\u001b[39;49m\u001b[39m.\u001b[39;49menv\u001b[39m.\u001b[39;49mstep(action)\n\u001b[1;32m    484\u001b[0m     \u001b[39mif\u001b[39;00m \u001b[39mlen\u001b[39m(step_returns) \u001b[39m==\u001b[39m \u001b[39m5\u001b[39m:\n\u001b[1;32m    485\u001b[0m         observation, reward, terminated, truncated, info \u001b[39m=\u001b[39m step_returns\n",
      "File \u001b[0;32m~/miniconda3/lib/python3.11/site-packages/gym/core.py:483\u001b[0m, in \u001b[0;36mObservationWrapper.step\u001b[0;34m(self, action)\u001b[0m\n\u001b[1;32m    481\u001b[0m \u001b[39mdef\u001b[39;00m \u001b[39mstep\u001b[39m(\u001b[39mself\u001b[39m, action):\n\u001b[1;32m    482\u001b[0m \u001b[39m    \u001b[39m\u001b[39m\"\"\"Returns a modified observation using :meth:`self.observation` after calling :meth:`env.step`.\"\"\"\u001b[39;00m\n\u001b[0;32m--> 483\u001b[0m     step_returns \u001b[39m=\u001b[39m \u001b[39mself\u001b[39;49m\u001b[39m.\u001b[39;49menv\u001b[39m.\u001b[39;49mstep(action)\n\u001b[1;32m    484\u001b[0m     \u001b[39mif\u001b[39;00m \u001b[39mlen\u001b[39m(step_returns) \u001b[39m==\u001b[39m \u001b[39m5\u001b[39m:\n\u001b[1;32m    485\u001b[0m         observation, reward, terminated, truncated, info \u001b[39m=\u001b[39m step_returns\n",
      "    \u001b[0;31m[... skipping similar frames: ObservationWrapper.step at line 483 (1 times)]\u001b[0m\n",
      "File \u001b[0;32m~/miniconda3/lib/python3.11/site-packages/gym/core.py:483\u001b[0m, in \u001b[0;36mObservationWrapper.step\u001b[0;34m(self, action)\u001b[0m\n\u001b[1;32m    481\u001b[0m \u001b[39mdef\u001b[39;00m \u001b[39mstep\u001b[39m(\u001b[39mself\u001b[39m, action):\n\u001b[1;32m    482\u001b[0m \u001b[39m    \u001b[39m\u001b[39m\"\"\"Returns a modified observation using :meth:`self.observation` after calling :meth:`env.step`.\"\"\"\u001b[39;00m\n\u001b[0;32m--> 483\u001b[0m     step_returns \u001b[39m=\u001b[39m \u001b[39mself\u001b[39;49m\u001b[39m.\u001b[39;49menv\u001b[39m.\u001b[39;49mstep(action)\n\u001b[1;32m    484\u001b[0m     \u001b[39mif\u001b[39;00m \u001b[39mlen\u001b[39m(step_returns) \u001b[39m==\u001b[39m \u001b[39m5\u001b[39m:\n\u001b[1;32m    485\u001b[0m         observation, reward, terminated, truncated, info \u001b[39m=\u001b[39m step_returns\n",
      "File \u001b[0;32m~/miniconda3/lib/python3.11/site-packages/gym/wrappers/order_enforcing.py:37\u001b[0m, in \u001b[0;36mOrderEnforcing.step\u001b[0;34m(self, action)\u001b[0m\n\u001b[1;32m     35\u001b[0m \u001b[39mif\u001b[39;00m \u001b[39mnot\u001b[39;00m \u001b[39mself\u001b[39m\u001b[39m.\u001b[39m_has_reset:\n\u001b[1;32m     36\u001b[0m     \u001b[39mraise\u001b[39;00m ResetNeeded(\u001b[39m\"\u001b[39m\u001b[39mCannot call env.step() before calling env.reset()\u001b[39m\u001b[39m\"\u001b[39m)\n\u001b[0;32m---> 37\u001b[0m \u001b[39mreturn\u001b[39;00m \u001b[39mself\u001b[39;49m\u001b[39m.\u001b[39;49menv\u001b[39m.\u001b[39;49mstep(action)\n",
      "File \u001b[0;32m~/miniconda3/lib/python3.11/site-packages/gym/wrappers/step_api_compatibility.py:52\u001b[0m, in \u001b[0;36mStepAPICompatibility.step\u001b[0;34m(self, action)\u001b[0m\n\u001b[1;32m     43\u001b[0m \u001b[39mdef\u001b[39;00m \u001b[39mstep\u001b[39m(\u001b[39mself\u001b[39m, action):\n\u001b[1;32m     44\u001b[0m \u001b[39m    \u001b[39m\u001b[39m\"\"\"Steps through the environment, returning 5 or 4 items depending on `new_step_api`.\u001b[39;00m\n\u001b[1;32m     45\u001b[0m \n\u001b[1;32m     46\u001b[0m \u001b[39m    Args:\u001b[39;00m\n\u001b[0;32m   (...)\u001b[0m\n\u001b[1;32m     50\u001b[0m \u001b[39m        (observation, reward, terminated, truncated, info) or (observation, reward, done, info)\u001b[39;00m\n\u001b[1;32m     51\u001b[0m \u001b[39m    \"\"\"\u001b[39;00m\n\u001b[0;32m---> 52\u001b[0m     step_returns \u001b[39m=\u001b[39m \u001b[39mself\u001b[39;49m\u001b[39m.\u001b[39;49menv\u001b[39m.\u001b[39;49mstep(action)\n\u001b[1;32m     53\u001b[0m     \u001b[39mif\u001b[39;00m \u001b[39mself\u001b[39m\u001b[39m.\u001b[39mnew_step_api:\n\u001b[1;32m     54\u001b[0m         \u001b[39mreturn\u001b[39;00m step_to_new_api(step_returns)\n",
      "File \u001b[0;32m~/miniconda3/lib/python3.11/site-packages/gym/wrappers/env_checker.py:39\u001b[0m, in \u001b[0;36mPassiveEnvChecker.step\u001b[0;34m(self, action)\u001b[0m\n\u001b[1;32m     37\u001b[0m     \u001b[39mreturn\u001b[39;00m env_step_passive_checker(\u001b[39mself\u001b[39m\u001b[39m.\u001b[39menv, action)\n\u001b[1;32m     38\u001b[0m \u001b[39melse\u001b[39;00m:\n\u001b[0;32m---> 39\u001b[0m     \u001b[39mreturn\u001b[39;00m \u001b[39mself\u001b[39;49m\u001b[39m.\u001b[39;49menv\u001b[39m.\u001b[39;49mstep(action)\n",
      "File \u001b[0;32m~/miniconda3/lib/python3.11/site-packages/slimevolleygym/slimevolley.py:792\u001b[0m, in \u001b[0;36mSlimeVolleyEnv.step\u001b[0;34m(self, action, otherAction)\u001b[0m\n\u001b[1;32m    788\u001b[0m \u001b[39mself\u001b[39m\u001b[39m.\u001b[39mgame\u001b[39m.\u001b[39magent_right\u001b[39m.\u001b[39msetAction(action) \u001b[39m# external agent is agent_right\u001b[39;00m\n\u001b[1;32m    790\u001b[0m reward \u001b[39m=\u001b[39m \u001b[39mself\u001b[39m\u001b[39m.\u001b[39mgame\u001b[39m.\u001b[39mstep()\n\u001b[0;32m--> 792\u001b[0m obs \u001b[39m=\u001b[39m \u001b[39mself\u001b[39;49m\u001b[39m.\u001b[39;49mgetObs()\n\u001b[1;32m    794\u001b[0m \u001b[39mif\u001b[39;00m \u001b[39mself\u001b[39m\u001b[39m.\u001b[39mt \u001b[39m>\u001b[39m\u001b[39m=\u001b[39m \u001b[39mself\u001b[39m\u001b[39m.\u001b[39mt_limit:\n\u001b[1;32m    795\u001b[0m   done \u001b[39m=\u001b[39m \u001b[39mTrue\u001b[39;00m\n",
      "File \u001b[0;32m~/miniconda3/lib/python3.11/site-packages/slimevolleygym/slimevolley.py:753\u001b[0m, in \u001b[0;36mSlimeVolleyEnv.getObs\u001b[0;34m(self)\u001b[0m\n\u001b[1;32m    751\u001b[0m \u001b[39mdef\u001b[39;00m \u001b[39mgetObs\u001b[39m(\u001b[39mself\u001b[39m):\n\u001b[1;32m    752\u001b[0m   \u001b[39mif\u001b[39;00m \u001b[39mself\u001b[39m\u001b[39m.\u001b[39mfrom_pixels:\n\u001b[0;32m--> 753\u001b[0m     obs \u001b[39m=\u001b[39m \u001b[39mself\u001b[39;49m\u001b[39m.\u001b[39;49mrender(mode\u001b[39m=\u001b[39;49m\u001b[39m'\u001b[39;49m\u001b[39mstate\u001b[39;49m\u001b[39m'\u001b[39;49m)\n\u001b[1;32m    754\u001b[0m     \u001b[39mself\u001b[39m\u001b[39m.\u001b[39mcanvas \u001b[39m=\u001b[39m obs\n\u001b[1;32m    755\u001b[0m   \u001b[39melse\u001b[39;00m:\n",
      "File \u001b[0;32m~/miniconda3/lib/python3.11/site-packages/gym/core.py:58\u001b[0m, in \u001b[0;36m_deprecate_mode.<locals>.render\u001b[0;34m(self, *args, **kwargs)\u001b[0m\n\u001b[1;32m     48\u001b[0m \u001b[39melif\u001b[39;00m \u001b[39mself\u001b[39m\u001b[39m.\u001b[39mspec \u001b[39mis\u001b[39;00m \u001b[39mnot\u001b[39;00m \u001b[39mNone\u001b[39;00m \u001b[39mand\u001b[39;00m \u001b[39m\"\u001b[39m\u001b[39mrender_mode\u001b[39m\u001b[39m\"\u001b[39m \u001b[39mnot\u001b[39;00m \u001b[39min\u001b[39;00m \u001b[39mself\u001b[39m\u001b[39m.\u001b[39mspec\u001b[39m.\u001b[39mkwargs\u001b[39m.\u001b[39mkeys():  \u001b[39m# type: ignore\u001b[39;00m\n\u001b[1;32m     49\u001b[0m     deprecation(\n\u001b[1;32m     50\u001b[0m         \u001b[39m\"\u001b[39m\u001b[39mYou are calling render method, \u001b[39m\u001b[39m\"\u001b[39m\n\u001b[1;32m     51\u001b[0m         \u001b[39m\"\u001b[39m\u001b[39mbut you didn\u001b[39m\u001b[39m'\u001b[39m\u001b[39mt specified the argument render_mode at environment initialization. \u001b[39m\u001b[39m\"\u001b[39m\n\u001b[0;32m   (...)\u001b[0m\n\u001b[1;32m     55\u001b[0m         \u001b[39m\"\u001b[39m\u001b[39mSee here for more information: https://www.gymlibrary.ml/content/api/\u001b[39m\u001b[39m\"\u001b[39m\n\u001b[1;32m     56\u001b[0m     )\n\u001b[0;32m---> 58\u001b[0m \u001b[39mreturn\u001b[39;00m render_func(\u001b[39mself\u001b[39;49m, \u001b[39m*\u001b[39;49margs, \u001b[39m*\u001b[39;49m\u001b[39m*\u001b[39;49mkwargs)\n",
      "File \u001b[0;32m~/miniconda3/lib/python3.11/site-packages/slimevolleygym/slimevolley.py:850\u001b[0m, in \u001b[0;36mSlimeVolleyEnv.render\u001b[0;34m(self, mode, close)\u001b[0m\n\u001b[1;32m    848\u001b[0m \u001b[39mself\u001b[39m\u001b[39m.\u001b[39mcanvas \u001b[39m=\u001b[39m \u001b[39mself\u001b[39m\u001b[39m.\u001b[39mgame\u001b[39m.\u001b[39mdisplay(\u001b[39mself\u001b[39m\u001b[39m.\u001b[39mcanvas)\n\u001b[1;32m    849\u001b[0m \u001b[39m# scale down to original res (looks better than rendering directly to lower res)\u001b[39;00m\n\u001b[0;32m--> 850\u001b[0m \u001b[39mself\u001b[39m\u001b[39m.\u001b[39mcanvas \u001b[39m=\u001b[39m downsize_image(\u001b[39mself\u001b[39;49m\u001b[39m.\u001b[39;49mcanvas)\n\u001b[1;32m    852\u001b[0m \u001b[39mif\u001b[39;00m mode\u001b[39m==\u001b[39m\u001b[39m'\u001b[39m\u001b[39mstate\u001b[39m\u001b[39m'\u001b[39m:\n\u001b[1;32m    853\u001b[0m   \u001b[39mreturn\u001b[39;00m np\u001b[39m.\u001b[39mcopy(\u001b[39mself\u001b[39m\u001b[39m.\u001b[39mcanvas)\n",
      "File \u001b[0;32m~/miniconda3/lib/python3.11/site-packages/slimevolleygym/slimevolley.py:124\u001b[0m, in \u001b[0;36mdownsize_image\u001b[0;34m(img)\u001b[0m\n\u001b[1;32m    123\u001b[0m \u001b[39mdef\u001b[39;00m \u001b[39mdownsize_image\u001b[39m(img):\n\u001b[0;32m--> 124\u001b[0m   \u001b[39mreturn\u001b[39;00m cv2\u001b[39m.\u001b[39;49mresize(img, (PIXEL_WIDTH, PIXEL_HEIGHT), interpolation\u001b[39m=\u001b[39;49mcv2\u001b[39m.\u001b[39;49mINTER_AREA)\n",
      "\u001b[0;31mKeyboardInterrupt\u001b[0m: "
     ]
    }
   ],
   "source": [
    "from stable_baselines3 import DQN\n",
    "from stable_baselines3.common.callbacks import CheckpointCallback, EveryNTimesteps\n",
    "from train_metrics import ModelMetricsCallback\n",
    "from gym.wrappers.record_video import RecordVideo\n",
    "\n",
    "model = DQN(\"CnnPolicy\", env, verbose=0, buffer_size=50000)\n",
    "\n",
    "eval_env = gym.make(env_name)\n",
    "eval_env = ResizeObservation(eval_env, INPUT_SHAPE)\n",
    "eval_env = GrayScaleObservation(eval_env, True)\n",
    "eval_env = ImageToPyTorch(eval_env)\n",
    "eval_env = BufferWrapper(eval_env, WINDOW_LENGTH, np.uint8)\n",
    "\n",
    "checkpoint_callback = CheckpointCallback(save_freq=1000, save_path='./models', name_prefix='dqn_', save_replay_buffer=True, save_vecnormalize=True)\n",
    "model_metrics_callback = ModelMetricsCallback(eval_env, num_episodes=30, verbose=0)\n",
    "metrics_callback = EveryNTimesteps(n_steps=1000, callback=model_metrics_callback)\n",
    "\n",
    "callbacks=[checkpoint_callback, metrics_callback]\n",
    "model = model.learn(total_timesteps=1e6, log_interval=4, callback=callbacks)\n",
    "\n",
    "\n",
    "print(model_metrics_callback.mean_rewards)\n",
    "del model # remove to demonstrate saving and loading\n",
    "\n",
    "model = DQN.load(\"slimeVolley\")\n",
    "\n",
    "record_env = RecordVideo(env, './videos')\n",
    "obs = record_env.reset()\n",
    "\n",
    "done = False\n",
    "while not done:\n",
    "    action, _ = model.predict(obs, deterministic=True)\n",
    "    obs, reward, done, info = record_env.step(int(action))\n",
    "record_env.close()"
   ]
  }
 ],
 "metadata": {
  "kernelspec": {
   "display_name": "base",
   "language": "python",
   "name": "python3"
  },
  "language_info": {
   "codemirror_mode": {
    "name": "ipython",
    "version": 3
   },
   "file_extension": ".py",
   "mimetype": "text/x-python",
   "name": "python",
   "nbconvert_exporter": "python",
   "pygments_lexer": "ipython3",
   "version": "3.11.4"
  },
  "orig_nbformat": 4
 },
 "nbformat": 4,
 "nbformat_minor": 2
}
