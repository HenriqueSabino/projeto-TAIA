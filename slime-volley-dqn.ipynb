{
 "cells": [
  {
   "cell_type": "code",
   "execution_count": 1,
   "metadata": {},
   "outputs": [
    {
     "name": "stdout",
     "output_type": "stream",
     "text": [
      "/bin/bash: /home/henriquesabino/miniconda3/lib/libtinfo.so.6: no version information available (required by /bin/bash)\n",
      "Requirement already satisfied: gym==0.25.2 in /home/henriquesabino/miniconda3/lib/python3.11/site-packages (from -r requirements.txt (line 1)) (0.25.2)\n",
      "Requirement already satisfied: slimevolleygym in /home/henriquesabino/miniconda3/lib/python3.11/site-packages (from -r requirements.txt (line 2)) (0.1.0)\n",
      "Requirement already satisfied: matplotlib in /home/henriquesabino/miniconda3/lib/python3.11/site-packages (from -r requirements.txt (line 3)) (3.7.2)\n",
      "Requirement already satisfied: opencv-python in /home/henriquesabino/miniconda3/lib/python3.11/site-packages (from -r requirements.txt (line 4)) (4.8.0.74)\n",
      "Requirement already satisfied: numpy in /home/henriquesabino/miniconda3/lib/python3.11/site-packages (from -r requirements.txt (line 5)) (1.24.3)\n",
      "Requirement already satisfied: pyglet in /home/henriquesabino/miniconda3/lib/python3.11/site-packages (from -r requirements.txt (line 6)) (2.0.9)\n",
      "Requirement already satisfied: shimmy in /home/henriquesabino/miniconda3/lib/python3.11/site-packages (from -r requirements.txt (line 7)) (1.1.0)\n",
      "Requirement already satisfied: stable-baselines3 in /home/henriquesabino/miniconda3/lib/python3.11/site-packages (from -r requirements.txt (line 8)) (2.1.0)\n",
      "Requirement already satisfied: cloudpickle>=1.2.0 in /home/henriquesabino/miniconda3/lib/python3.11/site-packages (from gym==0.25.2->-r requirements.txt (line 1)) (2.2.1)\n",
      "Requirement already satisfied: gym-notices>=0.0.4 in /home/henriquesabino/miniconda3/lib/python3.11/site-packages (from gym==0.25.2->-r requirements.txt (line 1)) (0.0.8)\n",
      "Requirement already satisfied: contourpy>=1.0.1 in /home/henriquesabino/miniconda3/lib/python3.11/site-packages (from matplotlib->-r requirements.txt (line 3)) (1.1.0)\n",
      "Requirement already satisfied: cycler>=0.10 in /home/henriquesabino/miniconda3/lib/python3.11/site-packages (from matplotlib->-r requirements.txt (line 3)) (0.11.0)\n",
      "Requirement already satisfied: fonttools>=4.22.0 in /home/henriquesabino/miniconda3/lib/python3.11/site-packages (from matplotlib->-r requirements.txt (line 3)) (4.41.1)\n",
      "Requirement already satisfied: kiwisolver>=1.0.1 in /home/henriquesabino/miniconda3/lib/python3.11/site-packages (from matplotlib->-r requirements.txt (line 3)) (1.4.4)\n",
      "Requirement already satisfied: packaging>=20.0 in /home/henriquesabino/miniconda3/lib/python3.11/site-packages (from matplotlib->-r requirements.txt (line 3)) (23.1)\n",
      "Requirement already satisfied: pillow>=6.2.0 in /home/henriquesabino/miniconda3/lib/python3.11/site-packages (from matplotlib->-r requirements.txt (line 3)) (10.0.0)\n",
      "Requirement already satisfied: pyparsing<3.1,>=2.3.1 in /home/henriquesabino/miniconda3/lib/python3.11/site-packages (from matplotlib->-r requirements.txt (line 3)) (3.0.9)\n",
      "Requirement already satisfied: python-dateutil>=2.7 in /home/henriquesabino/miniconda3/lib/python3.11/site-packages (from matplotlib->-r requirements.txt (line 3)) (2.8.2)\n",
      "Requirement already satisfied: gymnasium>=0.27.0 in /home/henriquesabino/miniconda3/lib/python3.11/site-packages (from shimmy->-r requirements.txt (line 7)) (0.29.1)\n",
      "Requirement already satisfied: torch>=1.13 in /home/henriquesabino/miniconda3/lib/python3.11/site-packages (from stable-baselines3->-r requirements.txt (line 8)) (2.0.1)\n",
      "Requirement already satisfied: pandas in /home/henriquesabino/miniconda3/lib/python3.11/site-packages (from stable-baselines3->-r requirements.txt (line 8)) (2.0.3)\n",
      "Requirement already satisfied: typing-extensions>=4.3.0 in /home/henriquesabino/miniconda3/lib/python3.11/site-packages (from gymnasium>=0.27.0->shimmy->-r requirements.txt (line 7)) (4.5.0)\n",
      "Requirement already satisfied: farama-notifications>=0.0.1 in /home/henriquesabino/miniconda3/lib/python3.11/site-packages (from gymnasium>=0.27.0->shimmy->-r requirements.txt (line 7)) (0.0.4)\n",
      "Requirement already satisfied: six>=1.5 in /home/henriquesabino/miniconda3/lib/python3.11/site-packages (from python-dateutil>=2.7->matplotlib->-r requirements.txt (line 3)) (1.16.0)\n",
      "Requirement already satisfied: filelock in /home/henriquesabino/miniconda3/lib/python3.11/site-packages (from torch>=1.13->stable-baselines3->-r requirements.txt (line 8)) (3.12.2)\n",
      "Requirement already satisfied: sympy in /home/henriquesabino/miniconda3/lib/python3.11/site-packages (from torch>=1.13->stable-baselines3->-r requirements.txt (line 8)) (1.12)\n",
      "Requirement already satisfied: networkx in /home/henriquesabino/miniconda3/lib/python3.11/site-packages (from torch>=1.13->stable-baselines3->-r requirements.txt (line 8)) (3.1)\n",
      "Requirement already satisfied: jinja2 in /home/henriquesabino/miniconda3/lib/python3.11/site-packages (from torch>=1.13->stable-baselines3->-r requirements.txt (line 8)) (3.1.2)\n",
      "Requirement already satisfied: nvidia-cuda-nvrtc-cu11==11.7.99 in /home/henriquesabino/miniconda3/lib/python3.11/site-packages (from torch>=1.13->stable-baselines3->-r requirements.txt (line 8)) (11.7.99)\n",
      "Requirement already satisfied: nvidia-cuda-runtime-cu11==11.7.99 in /home/henriquesabino/miniconda3/lib/python3.11/site-packages (from torch>=1.13->stable-baselines3->-r requirements.txt (line 8)) (11.7.99)\n",
      "Requirement already satisfied: nvidia-cuda-cupti-cu11==11.7.101 in /home/henriquesabino/miniconda3/lib/python3.11/site-packages (from torch>=1.13->stable-baselines3->-r requirements.txt (line 8)) (11.7.101)\n",
      "Requirement already satisfied: nvidia-cudnn-cu11==8.5.0.96 in /home/henriquesabino/miniconda3/lib/python3.11/site-packages (from torch>=1.13->stable-baselines3->-r requirements.txt (line 8)) (8.5.0.96)\n",
      "Requirement already satisfied: nvidia-cublas-cu11==11.10.3.66 in /home/henriquesabino/miniconda3/lib/python3.11/site-packages (from torch>=1.13->stable-baselines3->-r requirements.txt (line 8)) (11.10.3.66)\n",
      "Requirement already satisfied: nvidia-cufft-cu11==10.9.0.58 in /home/henriquesabino/miniconda3/lib/python3.11/site-packages (from torch>=1.13->stable-baselines3->-r requirements.txt (line 8)) (10.9.0.58)\n",
      "Requirement already satisfied: nvidia-curand-cu11==10.2.10.91 in /home/henriquesabino/miniconda3/lib/python3.11/site-packages (from torch>=1.13->stable-baselines3->-r requirements.txt (line 8)) (10.2.10.91)\n",
      "Requirement already satisfied: nvidia-cusolver-cu11==11.4.0.1 in /home/henriquesabino/miniconda3/lib/python3.11/site-packages (from torch>=1.13->stable-baselines3->-r requirements.txt (line 8)) (11.4.0.1)\n",
      "Requirement already satisfied: nvidia-cusparse-cu11==11.7.4.91 in /home/henriquesabino/miniconda3/lib/python3.11/site-packages (from torch>=1.13->stable-baselines3->-r requirements.txt (line 8)) (11.7.4.91)\n",
      "Requirement already satisfied: nvidia-nccl-cu11==2.14.3 in /home/henriquesabino/miniconda3/lib/python3.11/site-packages (from torch>=1.13->stable-baselines3->-r requirements.txt (line 8)) (2.14.3)\n",
      "Requirement already satisfied: nvidia-nvtx-cu11==11.7.91 in /home/henriquesabino/miniconda3/lib/python3.11/site-packages (from torch>=1.13->stable-baselines3->-r requirements.txt (line 8)) (11.7.91)\n",
      "Requirement already satisfied: triton==2.0.0 in /home/henriquesabino/miniconda3/lib/python3.11/site-packages (from torch>=1.13->stable-baselines3->-r requirements.txt (line 8)) (2.0.0)\n",
      "Requirement already satisfied: setuptools in /home/henriquesabino/.local/lib/python3.11/site-packages (from nvidia-cublas-cu11==11.10.3.66->torch>=1.13->stable-baselines3->-r requirements.txt (line 8)) (68.1.2)\n",
      "Requirement already satisfied: wheel in /home/henriquesabino/miniconda3/lib/python3.11/site-packages (from nvidia-cublas-cu11==11.10.3.66->torch>=1.13->stable-baselines3->-r requirements.txt (line 8)) (0.38.4)\n",
      "Requirement already satisfied: cmake in /home/henriquesabino/miniconda3/lib/python3.11/site-packages (from triton==2.0.0->torch>=1.13->stable-baselines3->-r requirements.txt (line 8)) (3.27.1)\n",
      "Requirement already satisfied: lit in /home/henriquesabino/miniconda3/lib/python3.11/site-packages (from triton==2.0.0->torch>=1.13->stable-baselines3->-r requirements.txt (line 8)) (16.0.6)\n",
      "Requirement already satisfied: pytz>=2020.1 in /home/henriquesabino/miniconda3/lib/python3.11/site-packages (from pandas->stable-baselines3->-r requirements.txt (line 8)) (2023.3)\n",
      "Requirement already satisfied: tzdata>=2022.1 in /home/henriquesabino/miniconda3/lib/python3.11/site-packages (from pandas->stable-baselines3->-r requirements.txt (line 8)) (2023.3)\n",
      "Requirement already satisfied: MarkupSafe>=2.0 in /home/henriquesabino/miniconda3/lib/python3.11/site-packages (from jinja2->torch>=1.13->stable-baselines3->-r requirements.txt (line 8)) (2.1.3)\n",
      "Requirement already satisfied: mpmath>=0.19 in /home/henriquesabino/miniconda3/lib/python3.11/site-packages (from sympy->torch>=1.13->stable-baselines3->-r requirements.txt (line 8)) (1.3.0)\n",
      "Note: you may need to restart the kernel to use updated packages.\n"
     ]
    }
   ],
   "source": [
    "%pip install -r requirements.txt"
   ]
  },
  {
   "cell_type": "code",
   "execution_count": 2,
   "metadata": {},
   "outputs": [
    {
     "name": "stderr",
     "output_type": "stream",
     "text": [
      "/home/henriquesabino/miniconda3/lib/python3.11/site-packages/gym/core.py:317: DeprecationWarning: \u001b[33mWARN: Initializing wrapper in old step API which returns one bool instead of two. It is recommended to set `new_step_api=True` to use new step API. This will be the default behaviour in future.\u001b[0m\n",
      "  deprecation(\n",
      "/home/henriquesabino/miniconda3/lib/python3.11/site-packages/gym/wrappers/step_api_compatibility.py:39: DeprecationWarning: \u001b[33mWARN: Initializing environment in old step API which returns one bool instead of two. It is recommended to set `new_step_api=True` to use new step API. This will be the default behaviour in future.\u001b[0m\n",
      "  deprecation(\n"
     ]
    }
   ],
   "source": [
    "import gym    \n",
    "import slimevolleygym\n",
    "from slimevolleygym import SurvivalRewardEnv\n",
    "import numpy as np\n",
    "from gym.wrappers.gray_scale_observation import GrayScaleObservation\n",
    "from gym.wrappers.resize_observation import ResizeObservation\n",
    "from atari_wrappers import RenderWrapper, BufferWrapper, ImageToPyTorch\n",
    "\n",
    "INPUT_SHAPE = (84, 84)\n",
    "WINDOW_LENGTH = 4\n",
    "\n",
    "env_name = 'SlimeVolleyNoFrameskip-v0'\n",
    "env = gym.make(env_name)\n",
    "env = SurvivalRewardEnv(env)\n",
    "env = RenderWrapper(env)\n",
    "env = ResizeObservation(env, INPUT_SHAPE)\n",
    "env = GrayScaleObservation(env, True)\n",
    "env = ImageToPyTorch(env)\n",
    "env = BufferWrapper(env, WINDOW_LENGTH, np.uint8)"
   ]
  },
  {
   "cell_type": "code",
   "execution_count": null,
   "metadata": {},
   "outputs": [],
   "source": [
    "from stable_baselines3.common.callbacks import CheckpointCallback, EveryNTimesteps\n",
    "from train_metrics import ModelMetricsCallback\n",
    "from model_utils import createOrLoadModel, recordVideoForModel\n",
    "    \n",
    "model, steps_done, mean_rewards, rewards_stds = createOrLoadModel('dqn', env, 'dqn_', '_steps.zip', 'dqn')\n",
    "\n",
    "eval_env = gym.make(env_name)\n",
    "eval_env = ResizeObservation(eval_env, INPUT_SHAPE)\n",
    "eval_env = GrayScaleObservation(eval_env, True)\n",
    "eval_env = ImageToPyTorch(eval_env)\n",
    "eval_env = BufferWrapper(eval_env, WINDOW_LENGTH, np.uint8)\n",
    "\n",
    "checkpoint_callback = CheckpointCallback(save_freq=10000, save_path='./models', name_prefix='dqn')\n",
    "model_metrics_callback = ModelMetricsCallback(eval_env, './models', num_episodes=30, mean_rewards=mean_rewards, rewards_stds=rewards_stds, verbose=0)\n",
    "metrics_callback = EveryNTimesteps(n_steps=1000, callback=model_metrics_callback)\n",
    "\n",
    "callbacks=[checkpoint_callback, metrics_callback]\n",
    "model = model.learn(total_timesteps=(1e6 - steps_done), log_interval=4, callback=callbacks)\n",
    "\n",
    "recordVideoForModel('dqn')"
   ]
  },
  {
   "cell_type": "code",
   "execution_count": null,
   "metadata": {},
   "outputs": [],
   "source": [
    "from plotting import plot_result\n",
    "\n",
    "mean_rewards = model_metrics_callback.mean_rewards\n",
    "\n",
    "plot_result(mean_rewards, -4, 1000)"
   ]
  }
 ],
 "metadata": {
  "kernelspec": {
   "display_name": "base",
   "language": "python",
   "name": "python3"
  },
  "language_info": {
   "codemirror_mode": {
    "name": "ipython",
    "version": 3
   },
   "file_extension": ".py",
   "mimetype": "text/x-python",
   "name": "python",
   "nbconvert_exporter": "python",
   "pygments_lexer": "ipython3",
   "version": "3.11.4"
  },
  "orig_nbformat": 4
 },
 "nbformat": 4,
 "nbformat_minor": 2
}
