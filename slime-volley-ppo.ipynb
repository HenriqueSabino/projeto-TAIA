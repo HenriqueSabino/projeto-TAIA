{
 "cells": [
  {
   "cell_type": "code",
   "execution_count": 3,
   "metadata": {},
   "outputs": [
    {
     "name": "stdout",
     "output_type": "stream",
     "text": [
      "/bin/bash: /home/henriquesabino/miniconda3/lib/libtinfo.so.6: no version information available (required by /bin/bash)\n",
      "Requirement already satisfied: gym==0.25.2 in /home/henriquesabino/miniconda3/lib/python3.11/site-packages (from -r requirements.txt (line 1)) (0.25.2)\n",
      "Requirement already satisfied: slimevolleygym in /home/henriquesabino/miniconda3/lib/python3.11/site-packages (from -r requirements.txt (line 2)) (0.1.0)\n",
      "Requirement already satisfied: matplotlib in /home/henriquesabino/miniconda3/lib/python3.11/site-packages (from -r requirements.txt (line 3)) (3.7.2)\n",
      "Requirement already satisfied: opencv-python in /home/henriquesabino/miniconda3/lib/python3.11/site-packages (from -r requirements.txt (line 4)) (4.8.0.74)\n",
      "Requirement already satisfied: numpy in /home/henriquesabino/miniconda3/lib/python3.11/site-packages (from -r requirements.txt (line 5)) (1.24.3)\n",
      "Requirement already satisfied: pyglet in /home/henriquesabino/miniconda3/lib/python3.11/site-packages (from -r requirements.txt (line 6)) (2.0.9)\n",
      "Requirement already satisfied: shimmy in /home/henriquesabino/miniconda3/lib/python3.11/site-packages (from -r requirements.txt (line 7)) (1.1.0)\n",
      "Requirement already satisfied: stable-baselines3 in /home/henriquesabino/miniconda3/lib/python3.11/site-packages (from -r requirements.txt (line 8)) (2.1.0)\n",
      "Requirement already satisfied: cloudpickle>=1.2.0 in /home/henriquesabino/miniconda3/lib/python3.11/site-packages (from gym==0.25.2->-r requirements.txt (line 1)) (2.2.1)\n",
      "Requirement already satisfied: gym-notices>=0.0.4 in /home/henriquesabino/miniconda3/lib/python3.11/site-packages (from gym==0.25.2->-r requirements.txt (line 1)) (0.0.8)\n",
      "Requirement already satisfied: contourpy>=1.0.1 in /home/henriquesabino/miniconda3/lib/python3.11/site-packages (from matplotlib->-r requirements.txt (line 3)) (1.1.0)\n",
      "Requirement already satisfied: cycler>=0.10 in /home/henriquesabino/miniconda3/lib/python3.11/site-packages (from matplotlib->-r requirements.txt (line 3)) (0.11.0)\n",
      "Requirement already satisfied: fonttools>=4.22.0 in /home/henriquesabino/miniconda3/lib/python3.11/site-packages (from matplotlib->-r requirements.txt (line 3)) (4.41.1)\n",
      "Requirement already satisfied: kiwisolver>=1.0.1 in /home/henriquesabino/miniconda3/lib/python3.11/site-packages (from matplotlib->-r requirements.txt (line 3)) (1.4.4)\n",
      "Requirement already satisfied: packaging>=20.0 in /home/henriquesabino/miniconda3/lib/python3.11/site-packages (from matplotlib->-r requirements.txt (line 3)) (23.1)\n",
      "Requirement already satisfied: pillow>=6.2.0 in /home/henriquesabino/miniconda3/lib/python3.11/site-packages (from matplotlib->-r requirements.txt (line 3)) (10.0.0)\n",
      "Requirement already satisfied: pyparsing<3.1,>=2.3.1 in /home/henriquesabino/miniconda3/lib/python3.11/site-packages (from matplotlib->-r requirements.txt (line 3)) (3.0.9)\n",
      "Requirement already satisfied: python-dateutil>=2.7 in /home/henriquesabino/miniconda3/lib/python3.11/site-packages (from matplotlib->-r requirements.txt (line 3)) (2.8.2)\n",
      "Requirement already satisfied: gymnasium>=0.27.0 in /home/henriquesabino/miniconda3/lib/python3.11/site-packages (from shimmy->-r requirements.txt (line 7)) (0.29.1)\n",
      "Requirement already satisfied: torch>=1.13 in /home/henriquesabino/miniconda3/lib/python3.11/site-packages (from stable-baselines3->-r requirements.txt (line 8)) (2.0.1)\n",
      "Requirement already satisfied: pandas in /home/henriquesabino/miniconda3/lib/python3.11/site-packages (from stable-baselines3->-r requirements.txt (line 8)) (2.0.3)\n",
      "Requirement already satisfied: typing-extensions>=4.3.0 in /home/henriquesabino/miniconda3/lib/python3.11/site-packages (from gymnasium>=0.27.0->shimmy->-r requirements.txt (line 7)) (4.5.0)\n",
      "Requirement already satisfied: farama-notifications>=0.0.1 in /home/henriquesabino/miniconda3/lib/python3.11/site-packages (from gymnasium>=0.27.0->shimmy->-r requirements.txt (line 7)) (0.0.4)\n",
      "Requirement already satisfied: six>=1.5 in /home/henriquesabino/miniconda3/lib/python3.11/site-packages (from python-dateutil>=2.7->matplotlib->-r requirements.txt (line 3)) (1.16.0)\n",
      "Requirement already satisfied: filelock in /home/henriquesabino/miniconda3/lib/python3.11/site-packages (from torch>=1.13->stable-baselines3->-r requirements.txt (line 8)) (3.12.2)\n",
      "Requirement already satisfied: sympy in /home/henriquesabino/miniconda3/lib/python3.11/site-packages (from torch>=1.13->stable-baselines3->-r requirements.txt (line 8)) (1.12)\n",
      "Requirement already satisfied: networkx in /home/henriquesabino/miniconda3/lib/python3.11/site-packages (from torch>=1.13->stable-baselines3->-r requirements.txt (line 8)) (3.1)\n",
      "Requirement already satisfied: jinja2 in /home/henriquesabino/miniconda3/lib/python3.11/site-packages (from torch>=1.13->stable-baselines3->-r requirements.txt (line 8)) (3.1.2)\n",
      "Requirement already satisfied: nvidia-cuda-nvrtc-cu11==11.7.99 in /home/henriquesabino/miniconda3/lib/python3.11/site-packages (from torch>=1.13->stable-baselines3->-r requirements.txt (line 8)) (11.7.99)\n",
      "Requirement already satisfied: nvidia-cuda-runtime-cu11==11.7.99 in /home/henriquesabino/miniconda3/lib/python3.11/site-packages (from torch>=1.13->stable-baselines3->-r requirements.txt (line 8)) (11.7.99)\n",
      "Requirement already satisfied: nvidia-cuda-cupti-cu11==11.7.101 in /home/henriquesabino/miniconda3/lib/python3.11/site-packages (from torch>=1.13->stable-baselines3->-r requirements.txt (line 8)) (11.7.101)\n",
      "Requirement already satisfied: nvidia-cudnn-cu11==8.5.0.96 in /home/henriquesabino/miniconda3/lib/python3.11/site-packages (from torch>=1.13->stable-baselines3->-r requirements.txt (line 8)) (8.5.0.96)\n",
      "Requirement already satisfied: nvidia-cublas-cu11==11.10.3.66 in /home/henriquesabino/miniconda3/lib/python3.11/site-packages (from torch>=1.13->stable-baselines3->-r requirements.txt (line 8)) (11.10.3.66)\n",
      "Requirement already satisfied: nvidia-cufft-cu11==10.9.0.58 in /home/henriquesabino/miniconda3/lib/python3.11/site-packages (from torch>=1.13->stable-baselines3->-r requirements.txt (line 8)) (10.9.0.58)\n",
      "Requirement already satisfied: nvidia-curand-cu11==10.2.10.91 in /home/henriquesabino/miniconda3/lib/python3.11/site-packages (from torch>=1.13->stable-baselines3->-r requirements.txt (line 8)) (10.2.10.91)\n",
      "Requirement already satisfied: nvidia-cusolver-cu11==11.4.0.1 in /home/henriquesabino/miniconda3/lib/python3.11/site-packages (from torch>=1.13->stable-baselines3->-r requirements.txt (line 8)) (11.4.0.1)\n",
      "Requirement already satisfied: nvidia-cusparse-cu11==11.7.4.91 in /home/henriquesabino/miniconda3/lib/python3.11/site-packages (from torch>=1.13->stable-baselines3->-r requirements.txt (line 8)) (11.7.4.91)\n",
      "Requirement already satisfied: nvidia-nccl-cu11==2.14.3 in /home/henriquesabino/miniconda3/lib/python3.11/site-packages (from torch>=1.13->stable-baselines3->-r requirements.txt (line 8)) (2.14.3)\n",
      "Requirement already satisfied: nvidia-nvtx-cu11==11.7.91 in /home/henriquesabino/miniconda3/lib/python3.11/site-packages (from torch>=1.13->stable-baselines3->-r requirements.txt (line 8)) (11.7.91)\n",
      "Requirement already satisfied: triton==2.0.0 in /home/henriquesabino/miniconda3/lib/python3.11/site-packages (from torch>=1.13->stable-baselines3->-r requirements.txt (line 8)) (2.0.0)\n",
      "Requirement already satisfied: setuptools in /home/henriquesabino/.local/lib/python3.11/site-packages (from nvidia-cublas-cu11==11.10.3.66->torch>=1.13->stable-baselines3->-r requirements.txt (line 8)) (68.1.2)\n",
      "Requirement already satisfied: wheel in /home/henriquesabino/miniconda3/lib/python3.11/site-packages (from nvidia-cublas-cu11==11.10.3.66->torch>=1.13->stable-baselines3->-r requirements.txt (line 8)) (0.38.4)\n",
      "Requirement already satisfied: cmake in /home/henriquesabino/miniconda3/lib/python3.11/site-packages (from triton==2.0.0->torch>=1.13->stable-baselines3->-r requirements.txt (line 8)) (3.27.1)\n",
      "Requirement already satisfied: lit in /home/henriquesabino/miniconda3/lib/python3.11/site-packages (from triton==2.0.0->torch>=1.13->stable-baselines3->-r requirements.txt (line 8)) (16.0.6)\n",
      "Requirement already satisfied: pytz>=2020.1 in /home/henriquesabino/miniconda3/lib/python3.11/site-packages (from pandas->stable-baselines3->-r requirements.txt (line 8)) (2023.3)\n",
      "Requirement already satisfied: tzdata>=2022.1 in /home/henriquesabino/miniconda3/lib/python3.11/site-packages (from pandas->stable-baselines3->-r requirements.txt (line 8)) (2023.3)\n",
      "Requirement already satisfied: MarkupSafe>=2.0 in /home/henriquesabino/miniconda3/lib/python3.11/site-packages (from jinja2->torch>=1.13->stable-baselines3->-r requirements.txt (line 8)) (2.1.3)\n",
      "Requirement already satisfied: mpmath>=0.19 in /home/henriquesabino/miniconda3/lib/python3.11/site-packages (from sympy->torch>=1.13->stable-baselines3->-r requirements.txt (line 8)) (1.3.0)\n",
      "Note: you may need to restart the kernel to use updated packages.\n"
     ]
    }
   ],
   "source": [
    "%pip install -r requirements.txt"
   ]
  },
  {
   "cell_type": "code",
   "execution_count": 4,
   "metadata": {},
   "outputs": [
    {
     "name": "stderr",
     "output_type": "stream",
     "text": [
      "/home/henriquesabino/miniconda3/lib/python3.11/site-packages/gym/core.py:317: DeprecationWarning: \u001b[33mWARN: Initializing wrapper in old step API which returns one bool instead of two. It is recommended to set `new_step_api=True` to use new step API. This will be the default behaviour in future.\u001b[0m\n",
      "  deprecation(\n",
      "/home/henriquesabino/miniconda3/lib/python3.11/site-packages/gym/wrappers/step_api_compatibility.py:39: DeprecationWarning: \u001b[33mWARN: Initializing environment in old step API which returns one bool instead of two. It is recommended to set `new_step_api=True` to use new step API. This will be the default behaviour in future.\u001b[0m\n",
      "  deprecation(\n"
     ]
    }
   ],
   "source": [
    "import gym    \n",
    "import slimevolleygym\n",
    "from slimevolleygym import SurvivalRewardEnv\n",
    "import numpy as np\n",
    "from gym.wrappers.gray_scale_observation import GrayScaleObservation\n",
    "from gym.wrappers.resize_observation import ResizeObservation\n",
    "from atari_wrappers import RenderWrapper, BufferWrapper, ImageToPyTorch\n",
    "\n",
    "INPUT_SHAPE = (84, 84)\n",
    "WINDOW_LENGTH = 4\n",
    "\n",
    "env_name = 'SlimeVolleyNoFrameskip-v0'\n",
    "env = gym.make(env_name)\n",
    "env = SurvivalRewardEnv(env)\n",
    "env = RenderWrapper(env)\n",
    "env = ResizeObservation(env, INPUT_SHAPE)\n",
    "env = GrayScaleObservation(env, True)\n",
    "env = ImageToPyTorch(env)\n",
    "env = BufferWrapper(env, WINDOW_LENGTH, np.uint8)"
   ]
  },
  {
   "cell_type": "code",
   "execution_count": 6,
   "metadata": {},
   "outputs": [
    {
     "name": "stderr",
     "output_type": "stream",
     "text": [
      "/home/henriquesabino/miniconda3/lib/python3.11/site-packages/stable_baselines3/common/vec_env/patch_gym.py:49: UserWarning: You provided an OpenAI Gym environment. We strongly recommend transitioning to Gymnasium environments. Stable-Baselines3 is automatically wrapping your environments in a compatibility layer, which could potentially cause issues.\n",
      "  warnings.warn(\n",
      "/home/henriquesabino/miniconda3/lib/python3.11/site-packages/gym/utils/passive_env_checker.py:174: UserWarning: \u001b[33mWARN: Future gym versions will require that `Env.reset` can be passed a `seed` instead of using `Env.seed` for resetting the environment random number generator.\u001b[0m\n",
      "  logger.warn(\n",
      "/home/henriquesabino/miniconda3/lib/python3.11/site-packages/gym/utils/passive_env_checker.py:190: UserWarning: \u001b[33mWARN: Future gym versions will require that `Env.reset` can be passed `return_info` to return information from the environment resetting.\u001b[0m\n",
      "  logger.warn(\n",
      "/home/henriquesabino/miniconda3/lib/python3.11/site-packages/gym/utils/passive_env_checker.py:195: UserWarning: \u001b[33mWARN: Future gym versions will require that `Env.reset` can be passed `options` to allow the environment initialisation to be passed additional information.\u001b[0m\n",
      "  logger.warn(\n",
      "/home/henriquesabino/miniconda3/lib/python3.11/site-packages/gym/core.py:43: DeprecationWarning: \u001b[33mWARN: The argument mode in render method is deprecated; use render_mode during environment initialization instead.\n",
      "See here for more information: https://www.gymlibrary.ml/content/api/\u001b[0m\n",
      "  deprecation(\n"
     ]
    },
    {
     "ename": "KeyboardInterrupt",
     "evalue": "",
     "output_type": "error",
     "traceback": [
      "\u001b[0;31m---------------------------------------------------------------------------\u001b[0m",
      "\u001b[0;31mKeyboardInterrupt\u001b[0m                         Traceback (most recent call last)",
      "Cell \u001b[0;32mIn[6], line 42\u001b[0m\n\u001b[1;32m     39\u001b[0m metrics_callback \u001b[39m=\u001b[39m EveryNTimesteps(n_steps\u001b[39m=\u001b[39m\u001b[39m1000\u001b[39m, callback\u001b[39m=\u001b[39mmodel_metrics_callback)\n\u001b[1;32m     41\u001b[0m callbacks\u001b[39m=\u001b[39m[checkpoint_callback, metrics_callback]\n\u001b[0;32m---> 42\u001b[0m model \u001b[39m=\u001b[39m model\u001b[39m.\u001b[39;49mlearn(total_timesteps\u001b[39m=\u001b[39;49m(\u001b[39m1e6\u001b[39;49m \u001b[39m-\u001b[39;49m steps_done), log_interval\u001b[39m=\u001b[39;49m\u001b[39m4\u001b[39;49m, callback\u001b[39m=\u001b[39;49mcallbacks)\n\u001b[1;32m     44\u001b[0m record_env \u001b[39m=\u001b[39m RecordVideo(env, \u001b[39m'\u001b[39m\u001b[39m./videos\u001b[39m\u001b[39m'\u001b[39m)\n\u001b[1;32m     45\u001b[0m obs \u001b[39m=\u001b[39m record_env\u001b[39m.\u001b[39mreset()\n",
      "File \u001b[0;32m~/miniconda3/lib/python3.11/site-packages/stable_baselines3/ppo/ppo.py:308\u001b[0m, in \u001b[0;36mPPO.learn\u001b[0;34m(self, total_timesteps, callback, log_interval, tb_log_name, reset_num_timesteps, progress_bar)\u001b[0m\n\u001b[1;32m    299\u001b[0m \u001b[39mdef\u001b[39;00m \u001b[39mlearn\u001b[39m(\n\u001b[1;32m    300\u001b[0m     \u001b[39mself\u001b[39m: SelfPPO,\n\u001b[1;32m    301\u001b[0m     total_timesteps: \u001b[39mint\u001b[39m,\n\u001b[0;32m   (...)\u001b[0m\n\u001b[1;32m    306\u001b[0m     progress_bar: \u001b[39mbool\u001b[39m \u001b[39m=\u001b[39m \u001b[39mFalse\u001b[39;00m,\n\u001b[1;32m    307\u001b[0m ) \u001b[39m-\u001b[39m\u001b[39m>\u001b[39m SelfPPO:\n\u001b[0;32m--> 308\u001b[0m     \u001b[39mreturn\u001b[39;00m \u001b[39msuper\u001b[39;49m()\u001b[39m.\u001b[39;49mlearn(\n\u001b[1;32m    309\u001b[0m         total_timesteps\u001b[39m=\u001b[39;49mtotal_timesteps,\n\u001b[1;32m    310\u001b[0m         callback\u001b[39m=\u001b[39;49mcallback,\n\u001b[1;32m    311\u001b[0m         log_interval\u001b[39m=\u001b[39;49mlog_interval,\n\u001b[1;32m    312\u001b[0m         tb_log_name\u001b[39m=\u001b[39;49mtb_log_name,\n\u001b[1;32m    313\u001b[0m         reset_num_timesteps\u001b[39m=\u001b[39;49mreset_num_timesteps,\n\u001b[1;32m    314\u001b[0m         progress_bar\u001b[39m=\u001b[39;49mprogress_bar,\n\u001b[1;32m    315\u001b[0m     )\n",
      "File \u001b[0;32m~/miniconda3/lib/python3.11/site-packages/stable_baselines3/common/on_policy_algorithm.py:259\u001b[0m, in \u001b[0;36mOnPolicyAlgorithm.learn\u001b[0;34m(self, total_timesteps, callback, log_interval, tb_log_name, reset_num_timesteps, progress_bar)\u001b[0m\n\u001b[1;32m    256\u001b[0m \u001b[39massert\u001b[39;00m \u001b[39mself\u001b[39m\u001b[39m.\u001b[39menv \u001b[39mis\u001b[39;00m \u001b[39mnot\u001b[39;00m \u001b[39mNone\u001b[39;00m\n\u001b[1;32m    258\u001b[0m \u001b[39mwhile\u001b[39;00m \u001b[39mself\u001b[39m\u001b[39m.\u001b[39mnum_timesteps \u001b[39m<\u001b[39m total_timesteps:\n\u001b[0;32m--> 259\u001b[0m     continue_training \u001b[39m=\u001b[39m \u001b[39mself\u001b[39;49m\u001b[39m.\u001b[39;49mcollect_rollouts(\u001b[39mself\u001b[39;49m\u001b[39m.\u001b[39;49menv, callback, \u001b[39mself\u001b[39;49m\u001b[39m.\u001b[39;49mrollout_buffer, n_rollout_steps\u001b[39m=\u001b[39;49m\u001b[39mself\u001b[39;49m\u001b[39m.\u001b[39;49mn_steps)\n\u001b[1;32m    261\u001b[0m     \u001b[39mif\u001b[39;00m continue_training \u001b[39mis\u001b[39;00m \u001b[39mFalse\u001b[39;00m:\n\u001b[1;32m    262\u001b[0m         \u001b[39mbreak\u001b[39;00m\n",
      "File \u001b[0;32m~/miniconda3/lib/python3.11/site-packages/stable_baselines3/common/on_policy_algorithm.py:169\u001b[0m, in \u001b[0;36mOnPolicyAlgorithm.collect_rollouts\u001b[0;34m(self, env, callback, rollout_buffer, n_rollout_steps)\u001b[0m\n\u001b[1;32m    166\u001b[0m \u001b[39mwith\u001b[39;00m th\u001b[39m.\u001b[39mno_grad():\n\u001b[1;32m    167\u001b[0m     \u001b[39m# Convert to pytorch tensor or to TensorDict\u001b[39;00m\n\u001b[1;32m    168\u001b[0m     obs_tensor \u001b[39m=\u001b[39m obs_as_tensor(\u001b[39mself\u001b[39m\u001b[39m.\u001b[39m_last_obs, \u001b[39mself\u001b[39m\u001b[39m.\u001b[39mdevice)\n\u001b[0;32m--> 169\u001b[0m     actions, values, log_probs \u001b[39m=\u001b[39m \u001b[39mself\u001b[39;49m\u001b[39m.\u001b[39;49mpolicy(obs_tensor)\n\u001b[1;32m    170\u001b[0m actions \u001b[39m=\u001b[39m actions\u001b[39m.\u001b[39mcpu()\u001b[39m.\u001b[39mnumpy()\n\u001b[1;32m    172\u001b[0m \u001b[39m# Rescale and perform action\u001b[39;00m\n",
      "File \u001b[0;32m~/miniconda3/lib/python3.11/site-packages/torch/nn/modules/module.py:1501\u001b[0m, in \u001b[0;36mModule._call_impl\u001b[0;34m(self, *args, **kwargs)\u001b[0m\n\u001b[1;32m   1496\u001b[0m \u001b[39m# If we don't have any hooks, we want to skip the rest of the logic in\u001b[39;00m\n\u001b[1;32m   1497\u001b[0m \u001b[39m# this function, and just call forward.\u001b[39;00m\n\u001b[1;32m   1498\u001b[0m \u001b[39mif\u001b[39;00m \u001b[39mnot\u001b[39;00m (\u001b[39mself\u001b[39m\u001b[39m.\u001b[39m_backward_hooks \u001b[39mor\u001b[39;00m \u001b[39mself\u001b[39m\u001b[39m.\u001b[39m_backward_pre_hooks \u001b[39mor\u001b[39;00m \u001b[39mself\u001b[39m\u001b[39m.\u001b[39m_forward_hooks \u001b[39mor\u001b[39;00m \u001b[39mself\u001b[39m\u001b[39m.\u001b[39m_forward_pre_hooks\n\u001b[1;32m   1499\u001b[0m         \u001b[39mor\u001b[39;00m _global_backward_pre_hooks \u001b[39mor\u001b[39;00m _global_backward_hooks\n\u001b[1;32m   1500\u001b[0m         \u001b[39mor\u001b[39;00m _global_forward_hooks \u001b[39mor\u001b[39;00m _global_forward_pre_hooks):\n\u001b[0;32m-> 1501\u001b[0m     \u001b[39mreturn\u001b[39;00m forward_call(\u001b[39m*\u001b[39;49margs, \u001b[39m*\u001b[39;49m\u001b[39m*\u001b[39;49mkwargs)\n\u001b[1;32m   1502\u001b[0m \u001b[39m# Do not call functions when jit is used\u001b[39;00m\n\u001b[1;32m   1503\u001b[0m full_backward_hooks, non_full_backward_hooks \u001b[39m=\u001b[39m [], []\n",
      "File \u001b[0;32m~/miniconda3/lib/python3.11/site-packages/stable_baselines3/common/policies.py:617\u001b[0m, in \u001b[0;36mActorCriticPolicy.forward\u001b[0;34m(self, obs, deterministic)\u001b[0m\n\u001b[1;32m    609\u001b[0m \u001b[39m\u001b[39m\u001b[39m\"\"\"\u001b[39;00m\n\u001b[1;32m    610\u001b[0m \u001b[39mForward pass in all the networks (actor and critic)\u001b[39;00m\n\u001b[1;32m    611\u001b[0m \n\u001b[0;32m   (...)\u001b[0m\n\u001b[1;32m    614\u001b[0m \u001b[39m:return: action, value and log probability of the action\u001b[39;00m\n\u001b[1;32m    615\u001b[0m \u001b[39m\"\"\"\u001b[39;00m\n\u001b[1;32m    616\u001b[0m \u001b[39m# Preprocess the observation if needed\u001b[39;00m\n\u001b[0;32m--> 617\u001b[0m features \u001b[39m=\u001b[39m \u001b[39mself\u001b[39;49m\u001b[39m.\u001b[39;49mextract_features(obs)\n\u001b[1;32m    618\u001b[0m \u001b[39mif\u001b[39;00m \u001b[39mself\u001b[39m\u001b[39m.\u001b[39mshare_features_extractor:\n\u001b[1;32m    619\u001b[0m     latent_pi, latent_vf \u001b[39m=\u001b[39m \u001b[39mself\u001b[39m\u001b[39m.\u001b[39mmlp_extractor(features)\n",
      "File \u001b[0;32m~/miniconda3/lib/python3.11/site-packages/stable_baselines3/common/policies.py:640\u001b[0m, in \u001b[0;36mActorCriticPolicy.extract_features\u001b[0;34m(self, obs)\u001b[0m\n\u001b[1;32m    633\u001b[0m \u001b[39m\u001b[39m\u001b[39m\"\"\"\u001b[39;00m\n\u001b[1;32m    634\u001b[0m \u001b[39mPreprocess the observation if needed and extract features.\u001b[39;00m\n\u001b[1;32m    635\u001b[0m \n\u001b[1;32m    636\u001b[0m \u001b[39m:param obs: Observation\u001b[39;00m\n\u001b[1;32m    637\u001b[0m \u001b[39m:return: the output of the features extractor(s)\u001b[39;00m\n\u001b[1;32m    638\u001b[0m \u001b[39m\"\"\"\u001b[39;00m\n\u001b[1;32m    639\u001b[0m \u001b[39mif\u001b[39;00m \u001b[39mself\u001b[39m\u001b[39m.\u001b[39mshare_features_extractor:\n\u001b[0;32m--> 640\u001b[0m     \u001b[39mreturn\u001b[39;00m \u001b[39msuper\u001b[39;49m()\u001b[39m.\u001b[39;49mextract_features(obs, \u001b[39mself\u001b[39;49m\u001b[39m.\u001b[39;49mfeatures_extractor)\n\u001b[1;32m    641\u001b[0m \u001b[39melse\u001b[39;00m:\n\u001b[1;32m    642\u001b[0m     pi_features \u001b[39m=\u001b[39m \u001b[39msuper\u001b[39m()\u001b[39m.\u001b[39mextract_features(obs, \u001b[39mself\u001b[39m\u001b[39m.\u001b[39mpi_features_extractor)\n",
      "File \u001b[0;32m~/miniconda3/lib/python3.11/site-packages/stable_baselines3/common/policies.py:131\u001b[0m, in \u001b[0;36mBaseModel.extract_features\u001b[0;34m(self, obs, features_extractor)\u001b[0m\n\u001b[1;32m    123\u001b[0m \u001b[39m\u001b[39m\u001b[39m\"\"\"\u001b[39;00m\n\u001b[1;32m    124\u001b[0m \u001b[39mPreprocess the observation if needed and extract features.\u001b[39;00m\n\u001b[1;32m    125\u001b[0m \n\u001b[0;32m   (...)\u001b[0m\n\u001b[1;32m    128\u001b[0m \u001b[39m :return: The extracted features\u001b[39;00m\n\u001b[1;32m    129\u001b[0m \u001b[39m\"\"\"\u001b[39;00m\n\u001b[1;32m    130\u001b[0m preprocessed_obs \u001b[39m=\u001b[39m preprocess_obs(obs, \u001b[39mself\u001b[39m\u001b[39m.\u001b[39mobservation_space, normalize_images\u001b[39m=\u001b[39m\u001b[39mself\u001b[39m\u001b[39m.\u001b[39mnormalize_images)\n\u001b[0;32m--> 131\u001b[0m \u001b[39mreturn\u001b[39;00m features_extractor(preprocessed_obs)\n",
      "File \u001b[0;32m~/miniconda3/lib/python3.11/site-packages/torch/nn/modules/module.py:1501\u001b[0m, in \u001b[0;36mModule._call_impl\u001b[0;34m(self, *args, **kwargs)\u001b[0m\n\u001b[1;32m   1496\u001b[0m \u001b[39m# If we don't have any hooks, we want to skip the rest of the logic in\u001b[39;00m\n\u001b[1;32m   1497\u001b[0m \u001b[39m# this function, and just call forward.\u001b[39;00m\n\u001b[1;32m   1498\u001b[0m \u001b[39mif\u001b[39;00m \u001b[39mnot\u001b[39;00m (\u001b[39mself\u001b[39m\u001b[39m.\u001b[39m_backward_hooks \u001b[39mor\u001b[39;00m \u001b[39mself\u001b[39m\u001b[39m.\u001b[39m_backward_pre_hooks \u001b[39mor\u001b[39;00m \u001b[39mself\u001b[39m\u001b[39m.\u001b[39m_forward_hooks \u001b[39mor\u001b[39;00m \u001b[39mself\u001b[39m\u001b[39m.\u001b[39m_forward_pre_hooks\n\u001b[1;32m   1499\u001b[0m         \u001b[39mor\u001b[39;00m _global_backward_pre_hooks \u001b[39mor\u001b[39;00m _global_backward_hooks\n\u001b[1;32m   1500\u001b[0m         \u001b[39mor\u001b[39;00m _global_forward_hooks \u001b[39mor\u001b[39;00m _global_forward_pre_hooks):\n\u001b[0;32m-> 1501\u001b[0m     \u001b[39mreturn\u001b[39;00m forward_call(\u001b[39m*\u001b[39;49margs, \u001b[39m*\u001b[39;49m\u001b[39m*\u001b[39;49mkwargs)\n\u001b[1;32m   1502\u001b[0m \u001b[39m# Do not call functions when jit is used\u001b[39;00m\n\u001b[1;32m   1503\u001b[0m full_backward_hooks, non_full_backward_hooks \u001b[39m=\u001b[39m [], []\n",
      "File \u001b[0;32m~/miniconda3/lib/python3.11/site-packages/stable_baselines3/common/torch_layers.py:106\u001b[0m, in \u001b[0;36mNatureCNN.forward\u001b[0;34m(self, observations)\u001b[0m\n\u001b[1;32m    105\u001b[0m \u001b[39mdef\u001b[39;00m \u001b[39mforward\u001b[39m(\u001b[39mself\u001b[39m, observations: th\u001b[39m.\u001b[39mTensor) \u001b[39m-\u001b[39m\u001b[39m>\u001b[39m th\u001b[39m.\u001b[39mTensor:\n\u001b[0;32m--> 106\u001b[0m     \u001b[39mreturn\u001b[39;00m \u001b[39mself\u001b[39m\u001b[39m.\u001b[39mlinear(\u001b[39mself\u001b[39;49m\u001b[39m.\u001b[39;49mcnn(observations))\n",
      "File \u001b[0;32m~/miniconda3/lib/python3.11/site-packages/torch/nn/modules/module.py:1501\u001b[0m, in \u001b[0;36mModule._call_impl\u001b[0;34m(self, *args, **kwargs)\u001b[0m\n\u001b[1;32m   1496\u001b[0m \u001b[39m# If we don't have any hooks, we want to skip the rest of the logic in\u001b[39;00m\n\u001b[1;32m   1497\u001b[0m \u001b[39m# this function, and just call forward.\u001b[39;00m\n\u001b[1;32m   1498\u001b[0m \u001b[39mif\u001b[39;00m \u001b[39mnot\u001b[39;00m (\u001b[39mself\u001b[39m\u001b[39m.\u001b[39m_backward_hooks \u001b[39mor\u001b[39;00m \u001b[39mself\u001b[39m\u001b[39m.\u001b[39m_backward_pre_hooks \u001b[39mor\u001b[39;00m \u001b[39mself\u001b[39m\u001b[39m.\u001b[39m_forward_hooks \u001b[39mor\u001b[39;00m \u001b[39mself\u001b[39m\u001b[39m.\u001b[39m_forward_pre_hooks\n\u001b[1;32m   1499\u001b[0m         \u001b[39mor\u001b[39;00m _global_backward_pre_hooks \u001b[39mor\u001b[39;00m _global_backward_hooks\n\u001b[1;32m   1500\u001b[0m         \u001b[39mor\u001b[39;00m _global_forward_hooks \u001b[39mor\u001b[39;00m _global_forward_pre_hooks):\n\u001b[0;32m-> 1501\u001b[0m     \u001b[39mreturn\u001b[39;00m forward_call(\u001b[39m*\u001b[39;49margs, \u001b[39m*\u001b[39;49m\u001b[39m*\u001b[39;49mkwargs)\n\u001b[1;32m   1502\u001b[0m \u001b[39m# Do not call functions when jit is used\u001b[39;00m\n\u001b[1;32m   1503\u001b[0m full_backward_hooks, non_full_backward_hooks \u001b[39m=\u001b[39m [], []\n",
      "File \u001b[0;32m~/miniconda3/lib/python3.11/site-packages/torch/nn/modules/container.py:217\u001b[0m, in \u001b[0;36mSequential.forward\u001b[0;34m(self, input)\u001b[0m\n\u001b[1;32m    215\u001b[0m \u001b[39mdef\u001b[39;00m \u001b[39mforward\u001b[39m(\u001b[39mself\u001b[39m, \u001b[39minput\u001b[39m):\n\u001b[1;32m    216\u001b[0m     \u001b[39mfor\u001b[39;00m module \u001b[39min\u001b[39;00m \u001b[39mself\u001b[39m:\n\u001b[0;32m--> 217\u001b[0m         \u001b[39minput\u001b[39m \u001b[39m=\u001b[39m module(\u001b[39minput\u001b[39;49m)\n\u001b[1;32m    218\u001b[0m     \u001b[39mreturn\u001b[39;00m \u001b[39minput\u001b[39m\n",
      "File \u001b[0;32m~/miniconda3/lib/python3.11/site-packages/torch/nn/modules/module.py:1501\u001b[0m, in \u001b[0;36mModule._call_impl\u001b[0;34m(self, *args, **kwargs)\u001b[0m\n\u001b[1;32m   1496\u001b[0m \u001b[39m# If we don't have any hooks, we want to skip the rest of the logic in\u001b[39;00m\n\u001b[1;32m   1497\u001b[0m \u001b[39m# this function, and just call forward.\u001b[39;00m\n\u001b[1;32m   1498\u001b[0m \u001b[39mif\u001b[39;00m \u001b[39mnot\u001b[39;00m (\u001b[39mself\u001b[39m\u001b[39m.\u001b[39m_backward_hooks \u001b[39mor\u001b[39;00m \u001b[39mself\u001b[39m\u001b[39m.\u001b[39m_backward_pre_hooks \u001b[39mor\u001b[39;00m \u001b[39mself\u001b[39m\u001b[39m.\u001b[39m_forward_hooks \u001b[39mor\u001b[39;00m \u001b[39mself\u001b[39m\u001b[39m.\u001b[39m_forward_pre_hooks\n\u001b[1;32m   1499\u001b[0m         \u001b[39mor\u001b[39;00m _global_backward_pre_hooks \u001b[39mor\u001b[39;00m _global_backward_hooks\n\u001b[1;32m   1500\u001b[0m         \u001b[39mor\u001b[39;00m _global_forward_hooks \u001b[39mor\u001b[39;00m _global_forward_pre_hooks):\n\u001b[0;32m-> 1501\u001b[0m     \u001b[39mreturn\u001b[39;00m forward_call(\u001b[39m*\u001b[39;49margs, \u001b[39m*\u001b[39;49m\u001b[39m*\u001b[39;49mkwargs)\n\u001b[1;32m   1502\u001b[0m \u001b[39m# Do not call functions when jit is used\u001b[39;00m\n\u001b[1;32m   1503\u001b[0m full_backward_hooks, non_full_backward_hooks \u001b[39m=\u001b[39m [], []\n",
      "File \u001b[0;32m~/miniconda3/lib/python3.11/site-packages/torch/nn/modules/conv.py:463\u001b[0m, in \u001b[0;36mConv2d.forward\u001b[0;34m(self, input)\u001b[0m\n\u001b[1;32m    462\u001b[0m \u001b[39mdef\u001b[39;00m \u001b[39mforward\u001b[39m(\u001b[39mself\u001b[39m, \u001b[39minput\u001b[39m: Tensor) \u001b[39m-\u001b[39m\u001b[39m>\u001b[39m Tensor:\n\u001b[0;32m--> 463\u001b[0m     \u001b[39mreturn\u001b[39;00m \u001b[39mself\u001b[39;49m\u001b[39m.\u001b[39;49m_conv_forward(\u001b[39minput\u001b[39;49m, \u001b[39mself\u001b[39;49m\u001b[39m.\u001b[39;49mweight, \u001b[39mself\u001b[39;49m\u001b[39m.\u001b[39;49mbias)\n",
      "File \u001b[0;32m~/miniconda3/lib/python3.11/site-packages/torch/nn/modules/conv.py:459\u001b[0m, in \u001b[0;36mConv2d._conv_forward\u001b[0;34m(self, input, weight, bias)\u001b[0m\n\u001b[1;32m    455\u001b[0m \u001b[39mif\u001b[39;00m \u001b[39mself\u001b[39m\u001b[39m.\u001b[39mpadding_mode \u001b[39m!=\u001b[39m \u001b[39m'\u001b[39m\u001b[39mzeros\u001b[39m\u001b[39m'\u001b[39m:\n\u001b[1;32m    456\u001b[0m     \u001b[39mreturn\u001b[39;00m F\u001b[39m.\u001b[39mconv2d(F\u001b[39m.\u001b[39mpad(\u001b[39minput\u001b[39m, \u001b[39mself\u001b[39m\u001b[39m.\u001b[39m_reversed_padding_repeated_twice, mode\u001b[39m=\u001b[39m\u001b[39mself\u001b[39m\u001b[39m.\u001b[39mpadding_mode),\n\u001b[1;32m    457\u001b[0m                     weight, bias, \u001b[39mself\u001b[39m\u001b[39m.\u001b[39mstride,\n\u001b[1;32m    458\u001b[0m                     _pair(\u001b[39m0\u001b[39m), \u001b[39mself\u001b[39m\u001b[39m.\u001b[39mdilation, \u001b[39mself\u001b[39m\u001b[39m.\u001b[39mgroups)\n\u001b[0;32m--> 459\u001b[0m \u001b[39mreturn\u001b[39;00m F\u001b[39m.\u001b[39;49mconv2d(\u001b[39minput\u001b[39;49m, weight, bias, \u001b[39mself\u001b[39;49m\u001b[39m.\u001b[39;49mstride,\n\u001b[1;32m    460\u001b[0m                 \u001b[39mself\u001b[39;49m\u001b[39m.\u001b[39;49mpadding, \u001b[39mself\u001b[39;49m\u001b[39m.\u001b[39;49mdilation, \u001b[39mself\u001b[39;49m\u001b[39m.\u001b[39;49mgroups)\n",
      "\u001b[0;31mKeyboardInterrupt\u001b[0m: "
     ]
    }
   ],
   "source": [
    "import os\n",
    "from stable_baselines3 import PPO\n",
    "from stable_baselines3.common.callbacks import CheckpointCallback, EveryNTimesteps\n",
    "from train_metrics import ModelMetricsCallback\n",
    "from gym.wrappers.record_video import RecordVideo\n",
    "\n",
    "def createOrLoadModel(model_prefix, model_suffix):\n",
    "    if not os.path.exists('./models/ppo/'):\n",
    "        return defaultPPOModel(), 0\n",
    "    \n",
    "    files = os.listdir('./models/ppo/')\n",
    "\n",
    "    if len(files) == 0:\n",
    "        return defaultPPOModel(), 0\n",
    "\n",
    "    try:\n",
    "        steps = [int(x.removeprefix(model_prefix).removesuffix(model_suffix)) for x in files]\n",
    "        steps.sort()\n",
    "\n",
    "        model_name = f'{model_prefix}{steps[-1]}{model_suffix}'\n",
    "        print(f'Loading {model_name}')\n",
    "        return PPO.load(model_name), steps[-1]\n",
    "    except:\n",
    "        return defaultPPOModel(), 0\n",
    "\n",
    "def defaultPPOModel():\n",
    "    return PPO(\"CnnPolicy\", env, verbose=0)\n",
    "    \n",
    "model, steps_done = createOrLoadModel('ppo_', '_steps.zip')\n",
    "\n",
    "eval_env = gym.make(env_name)\n",
    "eval_env = ResizeObservation(eval_env, INPUT_SHAPE)\n",
    "eval_env = GrayScaleObservation(eval_env, True)\n",
    "eval_env = ImageToPyTorch(eval_env)\n",
    "eval_env = BufferWrapper(eval_env, WINDOW_LENGTH, np.uint8)\n",
    "\n",
    "checkpoint_callback = CheckpointCallback(save_freq=10000, save_path='./models/ppo', name_prefix='ppo')\n",
    "model_metrics_callback = ModelMetricsCallback(eval_env, './models/ppo',num_episodes=30, verbose=0)\n",
    "metrics_callback = EveryNTimesteps(n_steps=1000, callback=model_metrics_callback)\n",
    "\n",
    "callbacks=[checkpoint_callback, metrics_callback]\n",
    "model = model.learn(total_timesteps=(1e6 - steps_done), log_interval=4, callback=callbacks)\n",
    "\n",
    "record_env = RecordVideo(env, './videos')\n",
    "obs = record_env.reset()\n",
    "\n",
    "done = False\n",
    "while not done:\n",
    "    action, _ = model.predict(obs, deterministic=True)\n",
    "    obs, reward, done, info = record_env.step(int(action))\n",
    "record_env.close()"
   ]
  }
 ],
 "metadata": {
  "kernelspec": {
   "display_name": "base",
   "language": "python",
   "name": "python3"
  },
  "language_info": {
   "codemirror_mode": {
    "name": "ipython",
    "version": 3
   },
   "file_extension": ".py",
   "mimetype": "text/x-python",
   "name": "python",
   "nbconvert_exporter": "python",
   "pygments_lexer": "ipython3",
   "version": "3.11.4"
  },
  "orig_nbformat": 4
 },
 "nbformat": 4,
 "nbformat_minor": 2
}
