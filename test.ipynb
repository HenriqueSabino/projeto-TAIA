{
 "cells": [
  {
   "cell_type": "code",
   "execution_count": 17,
   "metadata": {},
   "outputs": [
    {
     "name": "stderr",
     "output_type": "stream",
     "text": [
      "/home/henriquesabino/miniconda3/lib/python3.11/site-packages/gym/core.py:317: DeprecationWarning: \u001b[33mWARN: Initializing wrapper in old step API which returns one bool instead of two. It is recommended to set `new_step_api=True` to use new step API. This will be the default behaviour in future.\u001b[0m\n",
      "  deprecation(\n",
      "/home/henriquesabino/miniconda3/lib/python3.11/site-packages/gym/wrappers/step_api_compatibility.py:39: DeprecationWarning: \u001b[33mWARN: Initializing environment in old step API which returns one bool instead of two. It is recommended to set `new_step_api=True` to use new step API. This will be the default behaviour in future.\u001b[0m\n",
      "  deprecation(\n",
      "/home/henriquesabino/miniconda3/lib/python3.11/site-packages/gym/wrappers/record_video.py:78: UserWarning: \u001b[33mWARN: Overwriting existing videos at /home/henriquesabino/projeto-TAIA/videos folder (try specifying a different `video_folder` for the `RecordVideo` wrapper if this is not desired)\u001b[0m\n",
      "  logger.warn(\n",
      "/home/henriquesabino/miniconda3/lib/python3.11/site-packages/stable_baselines3/common/vec_env/patch_gym.py:49: UserWarning: You provided an OpenAI Gym environment. We strongly recommend transitioning to Gymnasium environments. Stable-Baselines3 is automatically wrapping your environments in a compatibility layer, which could potentially cause issues.\n",
      "  warnings.warn(\n",
      "/home/henriquesabino/miniconda3/lib/python3.11/site-packages/gym/utils/passive_env_checker.py:174: UserWarning: \u001b[33mWARN: Future gym versions will require that `Env.reset` can be passed a `seed` instead of using `Env.seed` for resetting the environment random number generator.\u001b[0m\n",
      "  logger.warn(\n",
      "/home/henriquesabino/miniconda3/lib/python3.11/site-packages/gym/utils/passive_env_checker.py:190: UserWarning: \u001b[33mWARN: Future gym versions will require that `Env.reset` can be passed `return_info` to return information from the environment resetting.\u001b[0m\n",
      "  logger.warn(\n",
      "/home/henriquesabino/miniconda3/lib/python3.11/site-packages/gym/utils/passive_env_checker.py:195: UserWarning: \u001b[33mWARN: Future gym versions will require that `Env.reset` can be passed `options` to allow the environment initialisation to be passed additional information.\u001b[0m\n",
      "  logger.warn(\n",
      "/home/henriquesabino/miniconda3/lib/python3.11/site-packages/gym/core.py:43: DeprecationWarning: \u001b[33mWARN: The argument mode in render method is deprecated; use render_mode during environment initialization instead.\n",
      "See here for more information: https://www.gymlibrary.ml/content/api/\u001b[0m\n",
      "  deprecation(\n",
      "/home/henriquesabino/miniconda3/lib/python3.11/site-packages/gym/wrappers/monitoring/video_recorder.py:67: DeprecationWarning: \u001b[33mWARN: `env.metadata[\"render.modes\"] is marked as deprecated and will be replaced with `env.metadata[\"render_modes\"]` see https://github.com/openai/gym/pull/2654 for more details\u001b[0m\n",
      "  logger.deprecation(\n",
      "/home/henriquesabino/miniconda3/lib/python3.11/site-packages/gym/wrappers/monitoring/video_recorder.py:149: DeprecationWarning: \u001b[33mWARN: `env.metadata[\"video.frames_per_second\"] is marked as deprecated and will be replaced with `env.metadata[\"render_fps\"]` see https://github.com/openai/gym/pull/2654 for more details\u001b[0m\n",
      "  logger.deprecation(\n",
      "/home/henriquesabino/miniconda3/lib/python3.11/site-packages/gym/core.py:49: DeprecationWarning: \u001b[33mWARN: You are calling render method, but you didn't specified the argument render_mode at environment initialization. To maintain backward compatibility, the environment will render in human mode.\n",
      "If you want to render in human mode, initialize the environment in this way: gym.make('EnvName', render_mode='human') and don't call the render method.\n",
      "See here for more information: https://www.gymlibrary.ml/content/api/\u001b[0m\n",
      "  deprecation(\n"
     ]
    },
    {
     "name": "stdout",
     "output_type": "stream",
     "text": [
      "['dqn_70000_steps.zip', 'dqn_30000_steps.zip', 'dqn_50000_steps.zip', 'dqn_10000_steps.zip', 'mean_rewards.csv', 'dqn_80000_steps.zip', 'rewards_stds.csv', 'dqn_40000_steps.zip', 'dqn_60000_steps.zip', 'dqn_20000_steps.zip']\n",
      "Loading dqn_80000_steps.zip\n"
     ]
    },
    {
     "name": "stderr",
     "output_type": "stream",
     "text": [
      "ffmpeg: /home/henriquesabino/miniconda3/lib/libncursesw.so.6: no version information available (required by /lib/x86_64-linux-gnu/libcaca.so.0)\n",
      "ffmpeg: /home/henriquesabino/miniconda3/lib/libncursesw.so.6: no version information available (required by /lib/x86_64-linux-gnu/libcaca.so.0)\n",
      "ffmpeg: /home/henriquesabino/miniconda3/lib/libtinfo.so.6: no version information available (required by /lib/x86_64-linux-gnu/libcaca.so.0)\n",
      "/home/henriquesabino/miniconda3/lib/python3.11/site-packages/gym/core.py:43: DeprecationWarning: \u001b[33mWARN: The argument mode in render method is deprecated; use render_mode during environment initialization instead.\n",
      "See here for more information: https://www.gymlibrary.ml/content/api/\u001b[0m\n",
      "  deprecation(\n",
      "/home/henriquesabino/miniconda3/lib/python3.11/site-packages/gym/utils/passive_env_checker.py:227: DeprecationWarning: \u001b[33mWARN: Core environment is written in old step API which returns one bool instead of two. It is recommended to rewrite the environment with new step API. \u001b[0m\n",
      "  logger.deprecation(\n",
      "/home/henriquesabino/miniconda3/lib/python3.11/site-packages/gym/utils/passive_env_checker.py:233: DeprecationWarning: `np.bool8` is a deprecated alias for `np.bool_`.  (Deprecated NumPy 1.24)\n",
      "  if not isinstance(done, (bool, np.bool8)):\n",
      "/home/henriquesabino/miniconda3/lib/python3.11/site-packages/gym/core.py:49: DeprecationWarning: \u001b[33mWARN: You are calling render method, but you didn't specified the argument render_mode at environment initialization. To maintain backward compatibility, the environment will render in human mode.\n",
      "If you want to render in human mode, initialize the environment in this way: gym.make('EnvName', render_mode='human') and don't call the render method.\n",
      "See here for more information: https://www.gymlibrary.ml/content/api/\u001b[0m\n",
      "  deprecation(\n"
     ]
    }
   ],
   "source": [
    "import os\n",
    "import gym\n",
    "import cv2\n",
    "import slimevolleygym\n",
    "from stable_baselines3 import DQN\n",
    "from slimevolleygym import SurvivalRewardEnv\n",
    "import numpy as np\n",
    "from gym.wrappers.gray_scale_observation import GrayScaleObservation\n",
    "from gym.wrappers.resize_observation import ResizeObservation\n",
    "from gym.wrappers.record_video import RecordVideo\n",
    "from atari_wrappers import RenderWrapper, BufferWrapper, ImageToPyTorch\n",
    "\n",
    "INPUT_SHAPE = (84, 84)\n",
    "WINDOW_LENGTH = 4\n",
    "\n",
    "env_name = 'SlimeVolleyNoFrameskip-v0'\n",
    "env = gym.make(env_name)\n",
    "env = RenderWrapper(env)\n",
    "env = SurvivalRewardEnv(env)\n",
    "env = ResizeObservation(env, INPUT_SHAPE)\n",
    "env = GrayScaleObservation(env, True)\n",
    "env = ImageToPyTorch(env)\n",
    "env = BufferWrapper(env, WINDOW_LENGTH, np.uint8)\n",
    "env = RecordVideo(env, './videos')\n",
    "\n",
    "def createOrLoadModel(model_prefix, model_suffix):\n",
    "    if not os.path.exists('./models/'):\n",
    "        return defaultDQNModel(), 0\n",
    "    \n",
    "    files = os.listdir('./models/')\n",
    "\n",
    "    if len(files) == 0:\n",
    "        return defaultDQNModel(), 0\n",
    "\n",
    "    try:\n",
    "        model_files = filter(lambda x: x.endswith('.zip'), files)\n",
    "        steps = [int(x.removeprefix(model_prefix).removesuffix(model_suffix)) for x in model_files]\n",
    "        steps.sort()\n",
    "\n",
    "        model_name = f'{model_prefix}{steps[-1]}{model_suffix}'\n",
    "        print(f'Loading {model_name}')\n",
    "        return DQN.load(model_name), steps[-1]\n",
    "    except:\n",
    "        return defaultDQNModel(), 0\n",
    "\n",
    "def defaultDQNModel():\n",
    "    return DQN(\"CnnPolicy\", env, verbose=0, buffer_size=50000)\n",
    "\n",
    "\n",
    "model, _ = createOrLoadModel('dqn_', '_steps.zip')\n",
    "\n",
    "obs = env.reset()\n",
    "\n",
    "done = False\n",
    "obss = [obs]\n",
    "while not done:\n",
    "    action, _ = model.predict(obs, deterministic=True)\n",
    "    obs, reward, done, info = env.step(int(action))\n",
    "    obss.append(obs)\n",
    "\n",
    "env.close()"
   ]
  }
 ],
 "metadata": {
  "kernelspec": {
   "display_name": "base",
   "language": "python",
   "name": "python3"
  },
  "language_info": {
   "codemirror_mode": {
    "name": "ipython",
    "version": 3
   },
   "file_extension": ".py",
   "mimetype": "text/x-python",
   "name": "python",
   "nbconvert_exporter": "python",
   "pygments_lexer": "ipython3",
   "version": "3.11.4"
  },
  "orig_nbformat": 4
 },
 "nbformat": 4,
 "nbformat_minor": 2
}
